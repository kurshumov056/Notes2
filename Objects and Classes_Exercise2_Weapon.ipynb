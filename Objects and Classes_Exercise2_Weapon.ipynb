{
 "cells": [
  {
   "cell_type": "code",
   "execution_count": 62,
   "metadata": {},
   "outputs": [
    {
     "name": "stdout",
     "output_type": "stream",
     "text": [
      "shooting...\n",
      "shooting...\n",
      "shooting...\n",
      "shooting...\n",
      "shooting...\n",
      "No bullets left\n",
      "Remaining Bullets: 0\n"
     ]
    }
   ],
   "source": [
    "'''   \n",
    "                                                                   2. Weapon\n",
    "\n",
    "Create a class Weapon. The __init__ method should receive a number of bullets (integer). Create an attribute called bullets to store that number. The class should also have the\n",
    "following methods.\n",
    "\n",
    "    * shoot()\n",
    "        - If there are bullets in the weapon, reduce them by 1 and return a message \"shooting...\"    \n",
    "        - You can read more about the method here: link\n",
    "\n",
    "Example\n",
    "\n",
    "\n",
    "                    Test Code                               Output\n",
    "            weapon = Weapons(5)                             shooting...\n",
    "            print(weapon.shoot())                           shooting...\n",
    "            print(weapon.shoot())                           Remaining bullets: 3\n",
    "            print(weapon)                                   shooting...\n",
    "            print(weapon.shoot())                           shooting...\n",
    "            print(weapon.shoot())                           shooting...\n",
    "            print(weapon.shoot())                           no bullets left\n",
    "            print(weapon.shoot())                           remaining bullets: -\n",
    "            print(weapon)\n",
    "        \n",
    "'''\n",
    "\n",
    "class Weapon:\n",
    "    def __init__(self, bullets):\n",
    "        self.bullets = bullets\n",
    "\n",
    "    def __repr__(self):\n",
    "        return \"Remaining Bullets: {}\".format(self.bullets)\n",
    "\n",
    "    def shoot(self):\n",
    "\n",
    "        if self.bullets > 0:\n",
    "            print('shooting...')\n",
    "            self.bullets -= 1\n",
    "        else:\n",
    "            print(\"No bullets left\")\n",
    "        \n",
    "    \n",
    "\n",
    "weapon = Weapon(5)\n",
    "weapon.shoot()\n",
    "weapon.shoot()\n",
    "weapon.shoot()\n",
    "weapon.shoot()\n",
    "weapon.shoot()\n",
    "weapon.shoot()\n",
    "print(weapon)\n",
    "\n",
    "\n",
    "\n"
   ]
  }
 ],
 "metadata": {
  "interpreter": {
   "hash": "72f905a1bbd07dc295e964c0246fea79da9263e854d6ece130d260b8e4a73f49"
  },
  "kernelspec": {
   "display_name": "Python 3.10.1 64-bit",
   "language": "python",
   "name": "python3"
  },
  "language_info": {
   "codemirror_mode": {
    "name": "ipython",
    "version": 3
   },
   "file_extension": ".py",
   "mimetype": "text/x-python",
   "name": "python",
   "nbconvert_exporter": "python",
   "pygments_lexer": "ipython3",
   "version": "3.10.1"
  },
  "orig_nbformat": 4
 },
 "nbformat": 4,
 "nbformat_minor": 2
}
