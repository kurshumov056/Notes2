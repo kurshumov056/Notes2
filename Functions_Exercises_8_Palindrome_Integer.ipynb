{
 "cells": [
  {
   "cell_type": "code",
   "execution_count": 23,
   "metadata": {},
   "outputs": [
    {
     "name": "stdout",
     "output_type": "stream",
     "text": [
      "False\n",
      "True\n",
      "True\n",
      "False\n"
     ]
    }
   ],
   "source": [
    "'''  \n",
    "                                8. Palindrome Integers \n",
    "\n",
    "A palindrome is a number that reads the same backward as forward, such as 323 or 1001. Write a function that receives a list of postive integeres, seperated by comma and space \", \"\n",
    "The function should check if each integer is a palindrome - True or False. Print the result.\n",
    "\n",
    "Examples\n",
    "\n",
    "Input:                      Output:\n",
    "123, 323, 421, 121          False\n",
    "                            True\n",
    "                            False\n",
    "                            True\n",
    "\n",
    "\n",
    "\n",
    "Input:                      Output:\n",
    "32, 2, 232, 1010            False\n",
    "                            True\n",
    "                            True\n",
    "                            False\n",
    "\n",
    "'''\n",
    " \n",
    "\n",
    "def palindrome(nums):\n",
    "    for x in nums:\n",
    "        orig = [char for char in str(x)]\n",
    "        rev = [char for char in reversed(str(x))]\n",
    "        if orig == rev:\n",
    "            \n",
    "            print('True')\n",
    "\n",
    "        else:\n",
    "            print('False')\n",
    "\n",
    "\n",
    "    \n",
    "list_1 = [123, 323, 421, 121]\n",
    "list_2 = [32, 2, 232, 1010]   \n",
    "\n",
    "\n",
    "#palindrome(list_1)\n",
    "palindrome(list_2)\n"
   ]
  }
 ],
 "metadata": {
  "interpreter": {
   "hash": "72f905a1bbd07dc295e964c0246fea79da9263e854d6ece130d260b8e4a73f49"
  },
  "kernelspec": {
   "display_name": "Python 3.10.1 64-bit",
   "language": "python",
   "name": "python3"
  },
  "language_info": {
   "codemirror_mode": {
    "name": "ipython",
    "version": 3
   },
   "file_extension": ".py",
   "mimetype": "text/x-python",
   "name": "python",
   "nbconvert_exporter": "python",
   "pygments_lexer": "ipython3",
   "version": "3.10.1"
  },
  "orig_nbformat": 4
 },
 "nbformat": 4,
 "nbformat_minor": 2
}
