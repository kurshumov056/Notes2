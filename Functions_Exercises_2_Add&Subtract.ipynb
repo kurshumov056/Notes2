{
 "cells": [
  {
   "cell_type": "code",
   "execution_count": 23,
   "metadata": {},
   "outputs": [
    {
     "name": "stdout",
     "output_type": "stream",
     "text": [
      "0\n"
     ]
    }
   ],
   "source": [
    "''' \n",
    "                                2. Add and Subtract\n",
    "\n",
    "You will receive three integer numbers.\n",
    "\n",
    "Write a function named:\n",
    "\n",
    "    - sum_numbers() that returns the sum of the first two integers\n",
    "    - subtract() that returns the difference between the returned result of the first functions andthe third integer.\n",
    "\n",
    "Wrap the two functions in a function named add_and_subtract() which will receive the three numbers as parameters. Print the result of the subtract() function on the console\n",
    "\n",
    "Examples\n",
    "\n",
    "Input:          Output:\n",
    "23              19\n",
    "6\n",
    "10 \n",
    "\n",
    "Inout:          Output:\n",
    "1               -12\n",
    "17\n",
    "30\n",
    "\n",
    "Input:          Output:\n",
    "42              0\n",
    "58\n",
    "100\n",
    "\n",
    "\n",
    "\n",
    "'''\n",
    "\n",
    "def sum_numbers(num1,num2):\n",
    "    return num1+ num2\n",
    "\n",
    "\n",
    "def subtract(sum, number):\n",
    "\n",
    "   \n",
    "    return sum - number\n",
    "   \n",
    "\n",
    "  \n",
    "\n",
    "a,b,c = int(input()), int(input()), int(input())\n",
    "result = subtract(sum_numbers(a,b),c)\n",
    "\n",
    "print(result)\n",
    "\n",
    "\n",
    "    "
   ]
  },
  {
   "cell_type": "code",
   "execution_count": null,
   "metadata": {},
   "outputs": [],
   "source": []
  }
 ],
 "metadata": {
  "interpreter": {
   "hash": "72f905a1bbd07dc295e964c0246fea79da9263e854d6ece130d260b8e4a73f49"
  },
  "kernelspec": {
   "display_name": "Python 3.10.1 64-bit",
   "language": "python",
   "name": "python3"
  },
  "language_info": {
   "codemirror_mode": {
    "name": "ipython",
    "version": 3
   },
   "file_extension": ".py",
   "mimetype": "text/x-python",
   "name": "python",
   "nbconvert_exporter": "python",
   "pygments_lexer": "ipython3",
   "version": "3.10.1"
  },
  "orig_nbformat": 4
 },
 "nbformat": 4,
 "nbformat_minor": 2
}
