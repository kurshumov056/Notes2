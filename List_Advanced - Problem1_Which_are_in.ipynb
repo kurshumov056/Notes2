{
 "cells": [
  {
   "cell_type": "code",
   "execution_count": 92,
   "metadata": {},
   "outputs": [
    {
     "name": "stdout",
     "output_type": "stream",
     "text": [
      "['a', 'r', 'p']\n",
      "['l', 'i', 'v', 'e']\n",
      "['s', 't', 'r', 'o', 'n', 'g']\n"
     ]
    }
   ],
   "source": [
    "''' \n",
    "                1. Which Are In?\n",
    "\n",
    "\n",
    "You will be given two sequences of strings, seperated by \", \". Print a new list containing only the strings from the first input line, which are substrings of any string in the \n",
    "second input line.\n",
    "\n",
    "Example:\n",
    "\n",
    "Input\"                                      Output:\n",
    "arp, live strong                           ['arp', 'live', 'strong']\n",
    "lively, alive, harp, sharp, armstrong\n",
    "\n",
    "\n",
    "Input:                                      Ouput:\n",
    "tarp, mice, bull                            []\n",
    "lively, alive, harp, sharp, armstrong\n",
    "\n",
    "\n",
    "'''\n",
    "\n",
    "def filter_function(inp1, inp2):\n",
    "    input1 = str(inp1).split(\", \")\n",
    "    input2 = str(inp2).split(\", \")\n",
    "    main_list = []\n",
    "    word_list = []\n",
    "    char_count = 0\n",
    "   \n",
    "    test2 = [ (char2) for word2 in input2  for char2 in word2]\n",
    "\n",
    "\n",
    "    for word in input1:\n",
    "         \n",
    "        for char in word:\n",
    "            word_list += [char]\n",
    "            char_count +=1\n",
    "\n",
    "            if char_count == len(word):\n",
    "                main_list += [word_list]\n",
    "                word_list = []\n",
    "                \n",
    "        char_count = 0\n",
    "\n",
    "    for lst in main_list:\n",
    "        print(lst)\n",
    "\n",
    "\n",
    "    \n",
    "\n",
    "filter_function('arp, live, strong', 'lively, alive, harp, sharp, armstrong')\n",
    "\n",
    "\n",
    "\n",
    "    "
   ]
  },
  {
   "cell_type": "code",
   "execution_count": null,
   "metadata": {},
   "outputs": [],
   "source": []
  },
  {
   "cell_type": "code",
   "execution_count": null,
   "metadata": {},
   "outputs": [],
   "source": []
  }
 ],
 "metadata": {
  "interpreter": {
   "hash": "72f905a1bbd07dc295e964c0246fea79da9263e854d6ece130d260b8e4a73f49"
  },
  "kernelspec": {
   "display_name": "Python 3.10.1 64-bit",
   "language": "python",
   "name": "python3"
  },
  "language_info": {
   "codemirror_mode": {
    "name": "ipython",
    "version": 3
   },
   "file_extension": ".py",
   "mimetype": "text/x-python",
   "name": "python",
   "nbconvert_exporter": "python",
   "pygments_lexer": "ipython3",
   "version": "3.10.1"
  },
  "orig_nbformat": 4
 },
 "nbformat": 4,
 "nbformat_minor": 2
}
