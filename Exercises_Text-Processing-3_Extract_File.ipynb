{
 "cells": [
  {
   "cell_type": "code",
   "execution_count": 116,
   "metadata": {},
   "outputs": [
    {
     "name": "stdout",
     "output_type": "stream",
     "text": [
      "File Name: Template \n",
      "File extension: pptx\n"
     ]
    }
   ],
   "source": [
    "'''   \n",
    "                    3. Extract File\n",
    "\n",
    "\n",
    "Write a program that reads the path to a file and subtracts the file name and its extension.\n",
    "\n",
    "\n",
    "Examples\n",
    "\n",
    "\n",
    "Input                                                       Output\n",
    "\n",
    "C:\\Internal\\training-internal\\Template.pptx                 File name: Template\n",
    "                                                            File Extension: pptx\n",
    "\n",
    "\n",
    "                                                            \n",
    "\n",
    "\n",
    "Input                                                       Output  \n",
    "\n",
    "C:\\Projects\\Data-Structures\\LinkedList.cs                   File name: LinkedList\n",
    "                                                            File extension: cs\n",
    "\n",
    "'''\n",
    "\n",
    "def extract_info(path):\n",
    "    file_info = path.split('\\\\')[-1]\n",
    "    file_name = file_info.split('.')[0]\n",
    "    file_ext = file_info.split('.')[1]\n",
    "\n",
    "    print(f'File Name: {file_name} \\nFile extension: {file_ext}')\n",
    "\n",
    "\n",
    "extract_info('C:\\Internal\\training-internal\\Template.pptx')\n",
    "# extract_info('C:\\Projects\\Data-Structures\\LinkedList.cs')\n",
    "\n",
    "                           \n",
    "                           "
   ]
  }
 ],
 "metadata": {
  "interpreter": {
   "hash": "72f905a1bbd07dc295e964c0246fea79da9263e854d6ece130d260b8e4a73f49"
  },
  "kernelspec": {
   "display_name": "Python 3.10.1 64-bit",
   "language": "python",
   "name": "python3"
  },
  "language_info": {
   "codemirror_mode": {
    "name": "ipython",
    "version": 3
   },
   "file_extension": ".py",
   "mimetype": "text/x-python",
   "name": "python",
   "nbconvert_exporter": "python",
   "pygments_lexer": "ipython3",
   "version": "3.10.1"
  },
  "orig_nbformat": 4
 },
 "nbformat": 4,
 "nbformat_minor": 2
}
