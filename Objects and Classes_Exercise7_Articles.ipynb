{
 "cells": [
  {
   "cell_type": "code",
   "execution_count": 233,
   "metadata": {},
   "outputs": [
    {
     "name": "stdout",
     "output_type": "stream",
     "text": [
      "Temperature in Italy \n",
      "Syracuse, a city on the coast of the Italian island of Sicily, registered temperatures of 48.8 defrees Celcius \n",
      "B. T.\n"
     ]
    }
   ],
   "source": [
    "\"\"\"     \n",
    "\n",
    "\n",
    "                                                7 Articles\n",
    "\n",
    "\n",
    "Create a class called Article. The __init__ method should accept 3 arguments: title: str, content: str, and author: str. The class should also have 4 methods:\n",
    "\n",
    "        - edit(new_content: str) - changes the old content to the new one\n",
    "        - change_author(new_author: str) - changes the old author with the new one\n",
    "        - rename(new_title: str) - changes the olds title with the new one\n",
    "        - __repr__() - returns the follwoing string: \"{title} - {content}: {author}\"\n",
    "\n",
    "\n",
    "Example:\n",
    "\n",
    "        Test Code                                                               Output\n",
    "\n",
    "article = Article(                                      Temperature in Italiy - Syracuse, a city on the coast of the italian island of Scicily,\n",
    "\"Highest Recorded Teperature\",                          registered temperatures of 48.8 degrees Celsius: .\n",
    "\"Temperatures across Europe are                         B.T\n",
    "unprecedented, according to scientists.\", \n",
    "\"Ben Turner\"\n",
    ")\n",
    "\n",
    "\n",
    "article.edit(\n",
    "\"Syracuse, a city on the coast of the Italian island\n",
    "of Sicily, registered temperatures of 48.8 defrees\n",
    "Celcius:\n",
    ")\n",
    "\n",
    "article.rename(\n",
    "\"Temperature in Italy\" \n",
    ")\n",
    "\n",
    "article.change_author(\n",
    "\"B. T.\" \n",
    ")\n",
    "\n",
    "print(articles)\n",
    "\n",
    "\"\"\"\n",
    "\n",
    "class Article:\n",
    "    def __init__(self, title, content, author):\n",
    "        self.title = title\n",
    "        self.content = content\n",
    "        self.author = author\n",
    "\n",
    "    def edit(self, new_content):\n",
    "        self.new_content = new_content\n",
    "        self.content = self.new_content\n",
    "\n",
    "    def rename(self, new_title):\n",
    "        self.new_title = new_title\n",
    "        self.title = self.new_title\n",
    " \n",
    "    def change_author(self, new_author):\n",
    "        self.new_author = new_author\n",
    "        self.author = self.new_author\n",
    "\n",
    "    def __repr__(self):\n",
    "        return \"{} \\n{}\\n{}\".format(self.title, self.content, self.author)\n",
    "\n",
    "\n",
    "article = Article(                                      \n",
    "\"Highest Recorded Teperature\",\n",
    "\"Temperatures across Europe are unprecedented, according to scientists.\", \n",
    "\"Ben Turner\"\n",
    ")\n",
    "\n",
    "\n",
    "article.edit(\"Syracuse, a city on the coast of the Italian island of Sicily, registered temperatures of 48.8 defrees Celcius \")\n",
    "article.rename(\"Temperature in Italy\")\n",
    "article.change_author(\"B. T.\")\n",
    "print(article)"
   ]
  },
  {
   "cell_type": "code",
   "execution_count": null,
   "metadata": {},
   "outputs": [],
   "source": []
  }
 ],
 "metadata": {
  "interpreter": {
   "hash": "72f905a1bbd07dc295e964c0246fea79da9263e854d6ece130d260b8e4a73f49"
  },
  "kernelspec": {
   "display_name": "Python 3.10.1 64-bit",
   "language": "python",
   "name": "python3"
  },
  "language_info": {
   "codemirror_mode": {
    "name": "ipython",
    "version": 3
   },
   "file_extension": ".py",
   "mimetype": "text/x-python",
   "name": "python",
   "nbconvert_exporter": "python",
   "pygments_lexer": "ipython3",
   "version": "3.10.1"
  },
  "orig_nbformat": 4
 },
 "nbformat": 4,
 "nbformat_minor": 2
}
