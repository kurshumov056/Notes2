{
 "cells": [
  {
   "cell_type": "code",
   "execution_count": 20,
   "metadata": {},
   "outputs": [
    {
     "data": {
      "text/plain": [
       "'  \\n                                                                    ***** C01P04 - Char histotgram ******\\n\\n                                                                    \\nImplement a funcion, called char_histogram(string), which takes a string and returns a dictionary, where each key is a character from string and its value is the number of occurrences of that char in the string.\\n\\nHere\\'s the signature:\\n\\ndef char_histogram(string):\\n    pass\\nExamples:\\n\\nchar_histogram(\"\") == {}\\nchar_histogram(\"    \") = {\\' \\': 4}\\nchar_histogram(\"Python!\") == {\\'P\\': 1, \\'y\\': 1, \\'t\\': 1, \\'h\\': 1, \\'o\\': 1, \\'n\\': 1, \\'!\\': 1}\\nchar_histogram(\"AAAAaaa!!!\") == {\\'A\\': 4, \\'a\\': 3, \\'!\\': 3}\\n\\n'"
      ]
     },
     "execution_count": 20,
     "metadata": {},
     "output_type": "execute_result"
    }
   ],
   "source": [
    "'''\n",
    "4. Double Char\n",
    "\n",
    "Given a string, you have to print a string in which each character (case-sensitive) is repeated. \n",
    "\n",
    "Example:\n",
    "    - 'Hello World' = 'HHeelloo  WWoorrlldd'\n",
    "\n",
    "'''"
   ]
  },
  {
   "cell_type": "code",
   "execution_count": 1,
   "metadata": {},
   "outputs": [
    {
     "name": "stdout",
     "output_type": "stream",
     "text": [
      "HH\n",
      "HHee\n",
      "HHeell\n",
      "HHeellll\n",
      "HHeelllloo\n",
      "HHeelllloo  \n",
      "HHeelllloo  WW\n",
      "HHeelllloo  WWoo\n",
      "HHeelllloo  WWoorr\n",
      "HHeelllloo  WWoorrll\n",
      "HHeelllloo  WWoorrlldd\n"
     ]
    }
   ],
   "source": [
    "word = 'Hello World'\n",
    "word_2 = '1234!'\n",
    "\n",
    "def word_transform(word):\n",
    "    new_word = ''\n",
    "\n",
    "\n",
    "    for x in range(len(word)):\n",
    "        new_word += word[x] + word[x]\n",
    "        print(new_word)\n",
    "\n",
    "\n",
    "word_transform(word)\n"
   ]
  },
  {
   "cell_type": "code",
   "execution_count": null,
   "metadata": {},
   "outputs": [],
   "source": []
  }
 ],
 "metadata": {
  "interpreter": {
   "hash": "72f905a1bbd07dc295e964c0246fea79da9263e854d6ece130d260b8e4a73f49"
  },
  "kernelspec": {
   "display_name": "Python 3.10.1 64-bit",
   "language": "python",
   "name": "python3"
  },
  "language_info": {
   "codemirror_mode": {
    "name": "ipython",
    "version": 3
   },
   "file_extension": ".py",
   "mimetype": "text/x-python",
   "name": "python",
   "nbconvert_exporter": "python",
   "pygments_lexer": "ipython3",
   "version": "3.10.1"
  },
  "orig_nbformat": 4
 },
 "nbformat": 4,
 "nbformat_minor": 2
}
