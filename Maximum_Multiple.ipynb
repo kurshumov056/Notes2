{
 "cells": [
  {
   "cell_type": "code",
   "execution_count": 2,
   "metadata": {},
   "outputs": [
    {
     "data": {
      "text/plain": [
       "'Highest int N is 50'"
      ]
     },
     "execution_count": 2,
     "metadata": {},
     "output_type": "execute_result"
    }
   ],
   "source": [
    "'''  \n",
    "\n",
    "7. Maximum Mulitple\n",
    "\n",
    "Given a Divisior and a Bound, find the largest integer N, such that:\n",
    "-N is divisibla by divisor\n",
    "-N is less than or equal to bound\n",
    "-N is greater than 0\n",
    "\n",
    "Notes: The divisor and bound are ony positive values. Its guaranteed that a devisor is found\n",
    "\n",
    "examples:\n",
    "\n",
    "Input \n",
    "\n",
    "        input 2,7 = output6\n",
    "        input 10,50 = output 50\n",
    "        input 37,100 = output 185\n",
    "\n",
    "\n",
    "\n",
    "'''\n",
    "\n",
    "def maximum_multiple(divisor,bound):\n",
    "    counter = 1\n",
    "    list = []\n",
    "\n",
    "    while counter <= int(bound):\n",
    "\n",
    "        # if counter < int(bound):\n",
    "        \n",
    "            if counter % int(divisor) == 0:\n",
    "                list += [counter]\n",
    "                counter += 1\n",
    "               \n",
    "\n",
    "            else:\n",
    "                counter += 1 \n",
    "\n",
    "    return \"Highest int N is \" + str(list[-1])\n",
    "         \n",
    "\n",
    "\n",
    "\n",
    "maximum_multiple(10,50)\n"
   ]
  },
  {
   "cell_type": "code",
   "execution_count": null,
   "metadata": {},
   "outputs": [],
   "source": []
  }
 ],
 "metadata": {
  "interpreter": {
   "hash": "72f905a1bbd07dc295e964c0246fea79da9263e854d6ece130d260b8e4a73f49"
  },
  "kernelspec": {
   "display_name": "Python 3.10.1 64-bit",
   "language": "python",
   "name": "python3"
  },
  "language_info": {
   "codemirror_mode": {
    "name": "ipython",
    "version": 3
   },
   "file_extension": ".py",
   "mimetype": "text/x-python",
   "name": "python",
   "nbconvert_exporter": "python",
   "pygments_lexer": "ipython3",
   "version": "3.10.1"
  },
  "orig_nbformat": 4
 },
 "nbformat": 4,
 "nbformat_minor": 2
}
