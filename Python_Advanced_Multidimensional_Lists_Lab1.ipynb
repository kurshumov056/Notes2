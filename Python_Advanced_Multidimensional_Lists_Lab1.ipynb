{
 "cells": [
  {
   "cell_type": "code",
   "execution_count": 17,
   "metadata": {},
   "outputs": [
    {
     "name": "stdout",
     "output_type": "stream",
     "text": [
      "76\n",
      "[[7, 1, 3, 3, 2, 1], [1, 3, 9, 8, 5, 6], [4, 6, 7, 9, 1, 0]]\n"
     ]
    }
   ],
   "source": [
    "'''     \n",
    "Sum Matrix Columns\n",
    "\n",
    "Write a program that readsa  matrix from the console and prints the sum for each column on sepearate lines. \n",
    "\n",
    "On the first line, you will get matrix sizes in format \"{rows}, {columns}\". On the next rows, you will get elements for each column seperated with a single space.\n",
    "\n",
    "Examples\n",
    "\n",
    "Input               Output\n",
    "3, 6                12\n",
    "7 1 3 3 2 1         10\n",
    "1 3 9 8 5 6         19\n",
    "4 6 7 9 1 0         20\n",
    "                    8 \n",
    "                    7\n",
    "\n",
    "'''\n",
    "\n",
    "\n",
    "import sys\n",
    "from io import StringIO\n",
    "\n",
    "test_input1 = '''3, 6\n",
    "7, 1, 3, 3, 2, 1\n",
    "1, 3, 9, 8, 5, 6\n",
    "4, 6, 7, 9, 1, 0\n",
    "'''\n",
    "\n",
    "\n",
    "sys.stdin = StringIO(test_input1)\n",
    "\n",
    "def read_matrix():\n",
    "    n, m = [int(x) for x in input().split(', ')]\n",
    "    matrix = []\n",
    "\n",
    "    for _ in range(n):\n",
    "        row = [int(x) for x in input().split(', ')]\n",
    "        matrix.append(row)\n",
    "\n",
    "    return matrix\n",
    "\n",
    "\n",
    "#                                                        Solution I\n",
    "matrix = read_matrix()\n",
    "n = len(matrix)\n",
    "m = len(matrix[0])\n",
    "the_sum = 0\n",
    "\n",
    "for row_index in range(n):\n",
    "    row = matrix[row_index]\n",
    "    for column_index in range(m):\n",
    "        the_sum += row[column_index]\n",
    "print('-----------------------------VARIANT I ---------------------------------------')\n",
    "print(the_sum)\n",
    "print(matrix)\n",
    "\n",
    "\n",
    "\n",
    "\n",
    "\n",
    "\n",
    "     "
   ]
  }
 ],
 "metadata": {
  "interpreter": {
   "hash": "72f905a1bbd07dc295e964c0246fea79da9263e854d6ece130d260b8e4a73f49"
  },
  "kernelspec": {
   "display_name": "Python 3.10.1 64-bit",
   "language": "python",
   "name": "python3"
  },
  "language_info": {
   "codemirror_mode": {
    "name": "ipython",
    "version": 3
   },
   "file_extension": ".py",
   "mimetype": "text/x-python",
   "name": "python",
   "nbconvert_exporter": "python",
   "pygments_lexer": "ipython3",
   "version": "3.10.1"
  },
  "orig_nbformat": 4
 },
 "nbformat": 4,
 "nbformat_minor": 2
}
