{
 "cells": [
  {
   "cell_type": "code",
   "execution_count": 73,
   "metadata": {},
   "outputs": [
    {
     "name": "stdout",
     "output_type": "stream",
     "text": [
      "Jeff\n",
      "john45\n",
      "peter-ivanov\n"
     ]
    }
   ],
   "source": [
    "'''  \n",
    "                                1. Valid Usernames\n",
    "\n",
    "\n",
    "Write a program that reads usernames on a single line (seperated by \", \") and prints all valid usernames on seperate. A valid username:\n",
    "    - has length between 3 and 16 characters inclusive\n",
    "    - can contain only letters, numbers, hyphens, and underscores\n",
    "    - has no redundant symybols before, after, or in between\n",
    "\n",
    "\n",
    "Examples:\n",
    "\n",
    "\n",
    "Input                                                          Output\n",
    "sh, too_long_username, !lleg@l ch@rs, jeffbutt                  jeffbutt\n",
    "\n",
    "\n",
    "Input                                                           Output\n",
    "Jeff, john45, ab, cd, peter-ivanov, @smith                      Jeff\n",
    "                                                                John45\n",
    "                                                                peter-ivanov\n",
    "'''\n",
    "\n",
    "def valid_usernames(user_text):\n",
    "    name_lst = user_text.split(', ')\n",
    "    numbers = [0,1,2,3,4,5,6,7,8,9]\n",
    "    special_chars = [\"-\", \"_\" ]\n",
    "    ascii_upperchars_range = range(65,91)\n",
    "    ascii_lowchars_range = range(97,123)\n",
    "\n",
    "    valid_name_lst = []\n",
    "\n",
    "    for name in name_lst:\n",
    "        lenght = 0\n",
    "        if len(name) in range(3,17):\n",
    "            for char in name:\n",
    "                if char.isdigit():\n",
    "                    lenght += 1\n",
    "\n",
    "                else:\n",
    "                    if char in special_chars:\n",
    "                        lenght += 1\n",
    "                    elif ord(char) in ascii_lowchars_range or ord(char) in ascii_upperchars_range:\n",
    "                        lenght += 1\n",
    "\n",
    "            if len(name) == lenght:\n",
    "                print(name)\n",
    "            \n",
    "                 \n",
    "\n",
    "\n",
    "                    \n",
    "\n",
    "        \n",
    "\n",
    "\n",
    "valid_usernames(\"Jeff, john45, ab, cd, peter-ivanov, @smith\")"
   ]
  }
 ],
 "metadata": {
  "interpreter": {
   "hash": "72f905a1bbd07dc295e964c0246fea79da9263e854d6ece130d260b8e4a73f49"
  },
  "kernelspec": {
   "display_name": "Python 3.10.1 64-bit",
   "language": "python",
   "name": "python3"
  },
  "language_info": {
   "codemirror_mode": {
    "name": "ipython",
    "version": 3
   },
   "file_extension": ".py",
   "mimetype": "text/x-python",
   "name": "python",
   "nbconvert_exporter": "python",
   "pygments_lexer": "ipython3",
   "version": "3.10.1"
  },
  "orig_nbformat": 4
 },
 "nbformat": 4,
 "nbformat_minor": 2
}
