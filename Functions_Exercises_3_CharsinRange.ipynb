{
 "cells": [
  {
   "cell_type": "code",
   "execution_count": 41,
   "metadata": {},
   "outputs": [
    {
     "name": "stdout",
     "output_type": "stream",
     "text": [
      "['$', '%', '&', \"'\", '(', ')', '*', '+', ',', '-', '.', '/', '0', '1', '2', '3', '4', '5', '6', '7', '8', '9']\n",
      "['B', 'C', 'D', 'E', 'F', 'G', 'H', 'I', 'J', 'K', 'L', 'M', 'N', 'O', 'P', 'Q', 'R', 'S', 'T', 'U', 'V', 'W', 'X', 'Y']\n"
     ]
    }
   ],
   "source": [
    "''' \n",
    "                3. Characters in Range\n",
    "\n",
    "Write a function that receives two characters and returns a single string with all the characters in between them (according to the ASCII code), seperated by a single space. \n",
    "\n",
    "Print the result on the console\n",
    "\n",
    "Examples: \n",
    "\n",
    "Input:          Output:\n",
    "a               b c \n",
    "d\n",
    "'''\n",
    "\n",
    "def ascii(char1, char2):\n",
    "\n",
    "    a = int(ord(char1))\n",
    "    b = int(ord(char2))\n",
    "\n",
    "\n",
    "    if a < b:\n",
    "        ascii_middle_chars = list(map(lambda x: chr(x), range(a,b) ))\n",
    "        print(ascii_middle_chars[1:])\n",
    "\n",
    "    else:\n",
    "        ascii_middle_chars = list(map(lambda x: chr(x), range(b,a) ))\n",
    "        print(ascii_middle_chars[1:])\n",
    "         \n",
    "\n",
    "\n",
    "\n",
    "\n",
    "\n",
    "ascii(':','#')\n",
    "\n",
    "ascii('A', 'Z')\n"
   ]
  }
 ],
 "metadata": {
  "interpreter": {
   "hash": "72f905a1bbd07dc295e964c0246fea79da9263e854d6ece130d260b8e4a73f49"
  },
  "kernelspec": {
   "display_name": "Python 3.10.1 64-bit",
   "language": "python",
   "name": "python3"
  },
  "language_info": {
   "codemirror_mode": {
    "name": "ipython",
    "version": 3
   },
   "file_extension": ".py",
   "mimetype": "text/x-python",
   "name": "python",
   "nbconvert_exporter": "python",
   "pygments_lexer": "ipython3",
   "version": "3.10.1"
  },
  "orig_nbformat": 4
 },
 "nbformat": 4,
 "nbformat_minor": 2
}
