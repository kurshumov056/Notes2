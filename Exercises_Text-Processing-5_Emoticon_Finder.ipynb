{
 "cells": [
  {
   "cell_type": "code",
   "execution_count": 4,
   "metadata": {},
   "outputs": [
    {
     "name": "stdout",
     "output_type": "stream",
     "text": [
      ":P :O :) \n"
     ]
    }
   ],
   "source": [
    "'''     \n",
    "                    5. Emoticon Finder\n",
    "\n",
    "\n",
    "Find all emoticons in the text. An emoticon always starts with \":\" and is followed by a symbol. The input will be provided as a single string.\n",
    "\n",
    "Example:\n",
    "w\n",
    "\n",
    "Input                                                                                                                   Output\n",
    "\n",
    "'There are so many emoticons nowadays :P. I have many ideas :O what input to place here :)                              :P :O :)\n",
    "                                                                                                                        \n",
    "\n",
    "\n",
    "'''\n",
    "\n",
    "def emoticon_finder(text):\n",
    "    scooper = False\n",
    "    symbols = ''\n",
    "    for i in range(0, len(text)):\n",
    "        \n",
    "        char = str(text)[i]\n",
    "        if scooper:\n",
    "            symbols += str(char + ' ')\n",
    "            scooper = False\n",
    "        if char == \":\":\n",
    "            scooper = True\n",
    "            symbols += char\n",
    "\n",
    "  \n",
    "    print(symbols)\n",
    "\n",
    "   \n",
    "        \n",
    "emoticon_finder(\"There are so many emoticons nowadays :P. I have many ideas :O what input to place here :)\")"
   ]
  }
 ],
 "metadata": {
  "interpreter": {
   "hash": "72f905a1bbd07dc295e964c0246fea79da9263e854d6ece130d260b8e4a73f49"
  },
  "kernelspec": {
   "display_name": "Python 3.10.1 64-bit",
   "language": "python",
   "name": "python3"
  },
  "language_info": {
   "codemirror_mode": {
    "name": "ipython",
    "version": 3
   },
   "file_extension": ".py",
   "mimetype": "text/x-python",
   "name": "python",
   "nbconvert_exporter": "python",
   "pygments_lexer": "ipython3",
   "version": "3.10.1"
  },
  "orig_nbformat": 4
 },
 "nbformat": 4,
 "nbformat_minor": 2
}
