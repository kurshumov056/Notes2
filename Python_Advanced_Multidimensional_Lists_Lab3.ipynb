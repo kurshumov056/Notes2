{
 "cells": [
  {
   "cell_type": "code",
   "execution_count": 26,
   "metadata": {},
   "outputs": [
    {
     "name": "stdout",
     "output_type": "stream",
     "text": [
      "[[2], [4, 6]]\n"
     ]
    }
   ],
   "source": [
    "'''     \n",
    "Write a program that receives a matrix of numbers and prints a new one only with the numbers that are even, Use nested comprehension for that problem.\n",
    "\n",
    "On the first line, you will receive the rows of the matrix. On the next rows, you will get elements for each column seperated with a comma and a space \", \".\n",
    "\n",
    "Example:\n",
    "\n",
    "\n",
    "Input                   Output\n",
    "\n",
    "2   \n",
    "1, 2, 3                 [[2], [4, 6]]\n",
    "4, 5, 6\n",
    "'''\n",
    " \n",
    "def read_matrix():\n",
    "    n = int(input())\n",
    "    matrix = []\n",
    "\n",
    "    for _ in range(n):\n",
    "        row = [int(x) for x in input().split(', ')]\n",
    "        matrix.append(row)\n",
    "\n",
    "    return matrix\n",
    "\n",
    "\n",
    "#                                                         \n",
    "matrix = read_matrix()\n",
    "even_matrix = []\n",
    "\n",
    "\n",
    "for row in matrix:\n",
    "    only_even = [x for x in row if x % 2 == 0]\n",
    "    even_matrix.append(only_even)\n",
    "\n",
    "print(even_matrix)\n",
    "\n",
    "    "
   ]
  },
  {
   "cell_type": "code",
   "execution_count": null,
   "metadata": {},
   "outputs": [],
   "source": []
  }
 ],
 "metadata": {
  "interpreter": {
   "hash": "72f905a1bbd07dc295e964c0246fea79da9263e854d6ece130d260b8e4a73f49"
  },
  "kernelspec": {
   "display_name": "Python 3.10.1 64-bit",
   "language": "python",
   "name": "python3"
  },
  "language_info": {
   "codemirror_mode": {
    "name": "ipython",
    "version": 3
   },
   "file_extension": ".py",
   "mimetype": "text/x-python",
   "name": "python",
   "nbconvert_exporter": "python",
   "pygments_lexer": "ipython3",
   "version": "3.10.1"
  },
  "orig_nbformat": 4
 },
 "nbformat": 4,
 "nbformat_minor": 2
}
