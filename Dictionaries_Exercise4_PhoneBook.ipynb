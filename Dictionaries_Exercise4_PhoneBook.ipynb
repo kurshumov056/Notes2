{
 "cells": [
  {
   "cell_type": "code",
   "execution_count": 6,
   "metadata": {},
   "outputs": [
    {
     "name": "stdout",
     "output_type": "stream",
     "text": [
      "Silvester ---> 02/987665544\n",
      "Contact: silvester does not exist in phonebook\n",
      "Contact: Rolf does not exist in phonebook\n",
      "Ralf ---> 666\n"
     ]
    }
   ],
   "source": [
    "'''     \n",
    "                            4. Phonebook\n",
    "\n",
    "\n",
    "Write a program that receives info from the console about people and their phone numbers.\n",
    "\n",
    "Each entry should have a name and a number (both strings) seperated by a \"-\". If you receive a name that already exists in the phonebook, update its number.\n",
    "\n",
    "After filling the phonebook,you will receive a number - N.Your program should be able to perform a search of contact by name and print its details in the \n",
    "format: {name}->{number}\". In case that contact isn't found, print \"Contact {name} does not exist\"double_char.ipynb\n",
    "\n",
    "Examples\n",
    "\n",
    "Input                               Output\n",
    "\n",
    "Adam-0888080808                     Contact Mery does not exist.\n",
    "2                                   Adam -> 0888080808\n",
    "Mery\n",
    "Adam\n",
    "\n",
    "\n",
    "Input:                              Output\n",
    "\n",
    "Adam-+359888001122                  Silverster -> 02/987665544\n",
    "Ralf-666                            Contact silvester does not exist.\n",
    "George-5559393                      Contact Rolf does not exist.\n",
    "Silvester-02/987665544              Ralf -> 666\n",
    "4\n",
    "Silvester\n",
    "silvester\n",
    "Rolf\n",
    "Ralf\n",
    "\n",
    "\n",
    "'''\n",
    "\n",
    "def phonebook():\n",
    "    complete = False \n",
    "    my_dict = {}\n",
    "    \n",
    "\n",
    "    while complete is not True:\n",
    "\n",
    "        \n",
    "\n",
    "        user_input = input('Enter credentials') \n",
    "        if '-' not in user_input:\n",
    "            break\n",
    "        user_input = user_input.split('-')\n",
    "     \n",
    "        name = user_input[0]\n",
    "        phone = user_input[1]\n",
    "\n",
    "        if name not in my_dict.keys():\n",
    "            my_dict[name] = phone\n",
    "\n",
    "        else:\n",
    "            my_dict[name] = phone\n",
    "\n",
    "    counter = int(user_input)\n",
    "\n",
    "    while counter > 0:\n",
    "        search_name = input('Enter contact name to search in phonebook')\n",
    "\n",
    "        if search_name in my_dict.keys():\n",
    "            print(f'{search_name} ---> {my_dict[search_name]}')\n",
    "\n",
    "        else:\n",
    "            print(f'Contact: {search_name} does not exist in phonebook')\n",
    "        counter -=1\n",
    "            \n",
    "\n",
    "\n",
    "phonebook()"
   ]
  }
 ],
 "metadata": {
  "interpreter": {
   "hash": "72f905a1bbd07dc295e964c0246fea79da9263e854d6ece130d260b8e4a73f49"
  },
  "kernelspec": {
   "display_name": "Python 3.10.1 64-bit",
   "language": "python",
   "name": "python3"
  },
  "language_info": {
   "codemirror_mode": {
    "name": "ipython",
    "version": 3
   },
   "file_extension": ".py",
   "mimetype": "text/x-python",
   "name": "python",
   "nbconvert_exporter": "python",
   "pygments_lexer": "ipython3",
   "version": "3.10.1"
  },
  "orig_nbformat": 4
 },
 "nbformat": 4,
 "nbformat_minor": 2
}
