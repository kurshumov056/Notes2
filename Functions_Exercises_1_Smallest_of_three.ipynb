{
 "cells": [
  {
   "cell_type": "code",
   "execution_count": 3,
   "metadata": {},
   "outputs": [
    {
     "name": "stdout",
     "output_type": "stream",
     "text": [
      "123\n"
     ]
    }
   ],
   "source": [
    "''' \n",
    "                        1. Smallest of Three Numbers\n",
    "\n",
    "Write a function that receives three integer numbers and returns the smallest. Print the result on the console. Use an appropriate name for the function.\n",
    "\n",
    "Examples: \n",
    "\n",
    "\n",
    "Input:              Output\n",
    "2                   \n",
    "5                   2\n",
    "3                                \n",
    "                                   \n",
    "Input:           Output:\n",
    "600\n",
    "342                123\n",
    "123\n",
    "\n",
    "'''\n",
    "\n",
    "def smallest(num1,num2,num3):\n",
    "    print(min(num1, num2, num3))\n",
    "    \n",
    "\n",
    "smallest(600, 342,123)"
   ]
  },
  {
   "cell_type": "code",
   "execution_count": null,
   "metadata": {},
   "outputs": [],
   "source": []
  }
 ],
 "metadata": {
  "interpreter": {
   "hash": "72f905a1bbd07dc295e964c0246fea79da9263e854d6ece130d260b8e4a73f49"
  },
  "kernelspec": {
   "display_name": "Python 3.10.1 64-bit",
   "language": "python",
   "name": "python3"
  },
  "language_info": {
   "codemirror_mode": {
    "name": "ipython",
    "version": 3
   },
   "file_extension": ".py",
   "mimetype": "text/x-python",
   "name": "python",
   "nbconvert_exporter": "python",
   "pygments_lexer": "ipython3",
   "version": "3.10.1"
  },
  "orig_nbformat": 4
 },
 "nbformat": 4,
 "nbformat_minor": 2
}
