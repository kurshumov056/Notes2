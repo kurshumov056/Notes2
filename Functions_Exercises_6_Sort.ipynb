{
 "cells": [
  {
   "cell_type": "code",
   "execution_count": 83,
   "metadata": {},
   "outputs": [
    {
     "name": "stdout",
     "output_type": "stream",
     "text": [
      "[2, 4, 6]\n",
      "[2, 8, 11, 12, 45, 52, 53]\n"
     ]
    }
   ],
   "source": [
    "'''  \n",
    "                6. Sort\n",
    "\n",
    "Write a program that receives a sequence of numbers (integers) seperated by a single space. It should print a sorted list of numbers in ascening order. \n",
    "\n",
    "Use sorted()\n",
    "\n",
    "\n",
    "Example:\n",
    "\n",
    "Input:                  Output:\n",
    "6 2 4                   [2, 4, 6]\n",
    "\n",
    "\n",
    "Input:                          Output:\n",
    "12 52 11 53 2 8 45              [2, 8, 11, 12, 45, 52, 53]\n",
    "\n",
    "\n",
    "'''\n",
    "\n",
    "\n",
    "def sorter(sequence):\n",
    "\n",
    "    result = sequence.split(\" \")\n",
    "\n",
    "    print(sorted(list(map(lambda x: int(x), result))))\n",
    "    \n",
    "\n",
    "sorter('6 2 4')\n",
    "sorter('12 52 11 53 2 8 45')"
   ]
  }
 ],
 "metadata": {
  "interpreter": {
   "hash": "72f905a1bbd07dc295e964c0246fea79da9263e854d6ece130d260b8e4a73f49"
  },
  "kernelspec": {
   "display_name": "Python 3.10.1 64-bit",
   "language": "python",
   "name": "python3"
  },
  "language_info": {
   "codemirror_mode": {
    "name": "ipython",
    "version": 3
   },
   "file_extension": ".py",
   "mimetype": "text/x-python",
   "name": "python",
   "nbconvert_exporter": "python",
   "pygments_lexer": "ipython3",
   "version": "3.10.1"
  },
  "orig_nbformat": 4
 },
 "nbformat": 4,
 "nbformat_minor": 2
}
