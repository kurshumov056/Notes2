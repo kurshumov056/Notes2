{
 "cells": [
  {
   "cell_type": "code",
   "execution_count": 100,
   "metadata": {},
   "outputs": [
    {
     "name": "stdout",
     "output_type": "stream",
     "text": [
      "20% [%%........]\n",
      " Still loading...\n"
     ]
    }
   ],
   "source": [
    "'''   \n",
    "                            11. Loading Bar\n",
    "\n",
    "\n",
    "You will receive a single integer number between 0 and 100 (inclusive) divisible by 10 without remainder (0, 10, 20, 30..). Your task is to create a function that returns \n",
    "a loading bar depending on the number you have received in the input. Print the result on the console. For my clarification, see the examples below.\n",
    "\n",
    "Examples\n",
    "\n",
    "Input:                          Output:\n",
    "                                Still loading..\n",
    "30                              30% [%%%.......]\n",
    "\n",
    "Input:                          Output:\n",
    "                                Still loading..\n",
    "50                              50% [%%%%%.....]\n",
    "                                \n",
    "\n",
    "\n",
    "Input:                          Output:\n",
    "100                             100% Complete!\n",
    "                                [%%%%%%%%%%]\n",
    "\n",
    "'''\n",
    "\n",
    "def loading_bar(num):\n",
    "\n",
    "    run_program = True\n",
    "    if int(num) == 100:\n",
    "        print('100% Complete \\n [%%%%%%%%%%]')\n",
    "        run_program = False\n",
    "         \n",
    "    if run_program:\n",
    "        \n",
    "        percent_number = int(num)\n",
    "        percent_string = \"[\"\n",
    "        dot_string = str()\n",
    "        dot_number =  100 - int(num)\n",
    "\n",
    "        while percent_number > 0:\n",
    "            percent_string += \"%\"\n",
    "            percent_number -= 10\n",
    "\n",
    "        while dot_number > 0:\n",
    "            dot_string += \".\"\n",
    "            dot_number -= 10\n",
    "\n",
    "        dot_string += \"]\"\n",
    "        result_string = percent_string + dot_string\n",
    "        result_number = str(num) + \"%\"\n",
    "\n",
    "        print(\"{} {}\\n Still loading...\".format(result_number, result_string))\n",
    "\n",
    "\n",
    "loading_bar(20)\n",
    "\n",
    "    \n",
    "\n"
   ]
  },
  {
   "cell_type": "code",
   "execution_count": null,
   "metadata": {},
   "outputs": [],
   "source": []
  }
 ],
 "metadata": {
  "interpreter": {
   "hash": "72f905a1bbd07dc295e964c0246fea79da9263e854d6ece130d260b8e4a73f49"
  },
  "kernelspec": {
   "display_name": "Python 3.10.1 64-bit",
   "language": "python",
   "name": "python3"
  },
  "language_info": {
   "codemirror_mode": {
    "name": "ipython",
    "version": 3
   },
   "file_extension": ".py",
   "mimetype": "text/x-python",
   "name": "python",
   "nbconvert_exporter": "python",
   "pygments_lexer": "ipython3",
   "version": "3.10.1"
  },
  "orig_nbformat": 4
 },
 "nbformat": 4,
 "nbformat_minor": 2
}
