{
 "cells": [
  {
   "cell_type": "code",
   "execution_count": null,
   "metadata": {},
   "outputs": [
    {
     "data": {
      "text/plain": [
       "\" \\n\\n                                                         **** C01P05 - Sum matrix ***\\n\\n\\n\\n\\n                                                         \\nYou are given a NxM matrix of integer numbers.\\n\\nImplement a function, called sum_matrix(m) that returns the sum of all numbers in the matrix.\\n\\nThe matrix will be represented as nested lists in Python.\\n\\nHere's the signature:\\n\\ndef sum_matrix(m):\\n    pass\\nExamples:\\n\\nm = [[1, 2, 3], [4, 5, 6], [7, 8, 9]]\\nsum_matrix(m) == 45\\n\\nm = [[0, 0, 0], [0, 0, 0], [0, 0, 0]]\\nsum_matrix(m) == 0\\n\\nm = [[1, 2], [3, 4], [5, 6], [7, 8], [9, 10]]\\nsum_matrix(m) == 55\\n\""
      ]
     },
     "execution_count": 1,
     "metadata": {},
     "output_type": "execute_result"
    }
   ],
   "source": [
    "''' \n",
    "5. Cant sleep? Count Sheep!\n",
    "\n",
    "If you can't sleep, kust count sheep. Given a non-negative integer, 3 for example, return a string with a murmur: \"1 sheep...2 sheep...3 sheep...\n",
    "\n",
    "Input will always be valid, i.e. no negative numbers.\n",
    "\n",
    "Example:\n",
    "\n",
    "Input: int(5) = 1 sheep...2 sheep...3 sheep...4 sheep...5 sheep...\n",
    "\n",
    "'''"
   ]
  },
  {
   "cell_type": "code",
   "execution_count": 1,
   "metadata": {},
   "outputs": [
    {
     "name": "stdout",
     "output_type": "stream",
     "text": [
      "1 sheep...2 sheep...3 sheep...4 sheep...5 sheep..."
     ]
    }
   ],
   "source": [
    "def sheep_counter(sheep):\n",
    "    count = 1\n",
    "    murmur = ' sheep...'\n",
    "\n",
    "    while count <= int(sheep):\n",
    "        print(\"{}{}\".format(str(count), murmur), end=\"\")\n",
    "        count += 1\n",
    "\n",
    "\n",
    "sheep_counter(5)\n",
    "\n",
    "    "
   ]
  },
  {
   "cell_type": "code",
   "execution_count": null,
   "metadata": {},
   "outputs": [],
   "source": [
    "[40, 80]"
   ]
  }
 ],
 "metadata": {
  "interpreter": {
   "hash": "72f905a1bbd07dc295e964c0246fea79da9263e854d6ece130d260b8e4a73f49"
  },
  "kernelspec": {
   "display_name": "Python 3.10.1 64-bit",
   "language": "python",
   "name": "python3"
  },
  "language_info": {
   "codemirror_mode": {
    "name": "ipython",
    "version": 3
   },
   "file_extension": ".py",
   "mimetype": "text/x-python",
   "name": "python",
   "nbconvert_exporter": "python",
   "pygments_lexer": "ipython3",
   "version": "3.10.1"
  },
  "orig_nbformat": 4
 },
 "nbformat": 4,
 "nbformat_minor": 2
}
