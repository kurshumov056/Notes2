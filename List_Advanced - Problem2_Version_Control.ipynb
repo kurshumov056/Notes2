{
 "cells": [
  {
   "cell_type": "code",
   "execution_count": 152,
   "metadata": {},
   "outputs": [
    {
     "name": "stdout",
     "output_type": "stream",
     "text": [
      "[4, 0, 0]\n"
     ]
    }
   ],
   "source": [
    "'''  \n",
    "                    2. Next Version   (34:12)\n",
    "\n",
    "You are fed up with changing the version of your software manually. Instead, you will create a little script that will make it for you. \n",
    "\n",
    "You will be given a string representing the version of your software in the format: \"{n1}.{m2}.{n3}\". Your task is to print the next version. For example, if the current version\n",
    "is \"1.3.4\", the next version will be \"1.3.5\" \n",
    "\n",
    "The only rule is that the numbers cannot be greater than 9. If it happens, set the current number to 0 and increas the previous number. For more clarification, see examples below:\n",
    "\n",
    "Example:    \n",
    "\n",
    "\n",
    "Input:          Output:\n",
    "1.2.3           1.2.4\n",
    "\n",
    "Input:          Output:\n",
    "1.3.9           1.4.0\n",
    "\n",
    "Input:          Output:\n",
    "3.9.9           4.0.0 \n",
    "\n",
    "'''\n",
    "\n",
    "\n",
    "\n",
    "\n",
    "def version_control(inp):\n",
    "    user_input = str(inp).split(\".\")\n",
    "    version = list(map(lambda x: int(x), user_input))\n",
    "    update_needed = True\n",
    "\n",
    "    if version[0] != 9:\n",
    "\n",
    "        if version[1] == 9 and version[2]==9:\n",
    "         \n",
    "            version[0] += 1\n",
    "            version[1] = 0\n",
    "            version[2] = 0\n",
    "\n",
    "        elif version[2] == 9:\n",
    "            version[1] += 1\n",
    "            version[2] = 0\n",
    "\n",
    "        elif version[1] == 9 and version[2] <9:\n",
    "            version[2] += 1\n",
    "\n",
    "        else:\n",
    "            version[2] += 1\n",
    "    \n",
    "    print(version)\n",
    "\n",
    "\n",
    "\n",
    "\n",
    " \n",
    "\n",
    "version_control('3.9.9')\n",
    "    "
   ]
  }
 ],
 "metadata": {
  "interpreter": {
   "hash": "72f905a1bbd07dc295e964c0246fea79da9263e854d6ece130d260b8e4a73f49"
  },
  "kernelspec": {
   "display_name": "Python 3.10.1 64-bit",
   "language": "python",
   "name": "python3"
  },
  "language_info": {
   "codemirror_mode": {
    "name": "ipython",
    "version": 3
   },
   "file_extension": ".py",
   "mimetype": "text/x-python",
   "name": "python",
   "nbconvert_exporter": "python",
   "pygments_lexer": "ipython3",
   "version": "3.10.1"
  },
  "orig_nbformat": 4
 },
 "nbformat": 4,
 "nbformat_minor": 2
}
