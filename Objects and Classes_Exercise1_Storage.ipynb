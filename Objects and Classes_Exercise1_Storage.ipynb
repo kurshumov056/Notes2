{
 "cells": [
  {
   "cell_type": "code",
   "execution_count": 32,
   "metadata": {},
   "outputs": [
    {
     "name": "stdout",
     "output_type": "stream",
     "text": [
      "['apple', 'bannana', 'potato', 'tomato', 'bread']\n"
     ]
    }
   ],
   "source": [
    "'''    \n",
    "                                    1. Storage\n",
    "\n",
    "Create a class Storage. The __init__ method should accept one parameter - the capacity of the storage. The Storage class should also have an attribute called storage - empty list,\n",
    "where all the items will be stored.\n",
    "\n",
    "The class should have two additional methods:\n",
    "    - add_product(product: str) - adds the product in the storage if there is enough space for it.\n",
    "    - get_products() - returns the  storage list\n",
    "\n",
    "\n",
    "Example\n",
    "\n",
    "    Test                                Output\n",
    "\n",
    "storage = Storage(4)                    [\"apple\", \"bannana\", \"potato\", \"tomato\"]\n",
    "storage.add_product(\"apple\")\n",
    "storage.add_product(\"bannana\")\n",
    "storage.add_product(\"potato\")\n",
    "storage.add_product(\"tomato\")\n",
    "storage.add_product(\"bread\")\n",
    "print(storage.get_product())\n",
    "\n",
    "'''\n",
    "\n",
    "class Storage:\n",
    "\n",
    "    storage = []\n",
    "\n",
    "    def __init__(self, capacity):\n",
    "        self.capacity = capacity\n",
    "\n",
    "    def add_product(self, product):\n",
    "        self.product = product\n",
    "         \n",
    "        for x in range(int(self.capacity)):\n",
    "            if product not in Storage.storage:\n",
    "                  Storage.storage += [self.product]\n",
    "                 \n",
    "    def get_products(self):\n",
    "        print(Storage.storage)\n",
    "    \n",
    "\n",
    " \n",
    "inventory = Storage(6)\n",
    "inventory.add_product(\"apple\")\n",
    "inventory.add_product(\"bannana\")\n",
    "inventory.add_product(\"potato\")\n",
    "inventory.add_product(\"tomato\")\n",
    "inventory.add_product(\"bread\")\n",
    "inventory.get_products()\n",
    " \n"
   ]
  },
  {
   "cell_type": "code",
   "execution_count": null,
   "metadata": {},
   "outputs": [],
   "source": []
  }
 ],
 "metadata": {
  "interpreter": {
   "hash": "72f905a1bbd07dc295e964c0246fea79da9263e854d6ece130d260b8e4a73f49"
  },
  "kernelspec": {
   "display_name": "Python 3.10.1 64-bit",
   "language": "python",
   "name": "python3"
  },
  "language_info": {
   "codemirror_mode": {
    "name": "ipython",
    "version": 3
   },
   "file_extension": ".py",
   "mimetype": "text/x-python",
   "name": "python",
   "nbconvert_exporter": "python",
   "pygments_lexer": "ipython3",
   "version": "3.10.1"
  },
  "orig_nbformat": 4
 },
 "nbformat": 4,
 "nbformat_minor": 2
}
