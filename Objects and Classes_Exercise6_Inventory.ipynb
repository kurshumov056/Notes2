{
 "cells": [
  {
   "cell_type": "code",
   "execution_count": 225,
   "metadata": {},
   "outputs": [
    {
     "name": "stdout",
     "output_type": "stream",
     "text": [
      "1\n",
      "Collected item inventory: Bottle, Oven, Toaster.\n",
      "Capacity left: 1\n"
     ]
    }
   ],
   "source": [
    "\"\"\"    \n",
    "                                            6. Inventory\n",
    "\n",
    "\n",
    "Create a class Inventory. The __init__ method should accept only the __capacity: int (private attribute) of the inventory. You can read more about private attributes here. Eeach\n",
    "inventory should also have an attribuite called items - empty list, where all the items will be stored. The class should also have 3 methods:\n",
    "\n",
    "        - add_item(item: str) - adds the item in the inventroy if there is space for it. OTherwise, returns \"not enough room in the inventory\"\n",
    "        -get_capacity() - returns value of __capacity\n",
    "        - __repr__() - returns \"Items: {items}.\\nCapacity left: {left_capacity}\" The items should be seperated by \", \" \n",
    "\n",
    "Example\n",
    "\n",
    "\n",
    "Test Code                                               Output\n",
    "inventory = Inventory(2)                                not enough room in the inventory\n",
    "inventory.add_item(\"potion\")                            2\n",
    "inventory.add_item(\"sword\")                             Items: potion, sword.\n",
    "print(inventory.add_item(\"bottle\"))                     Capacity left: 0 \n",
    "print(inventory.get_capacity())\n",
    "print(inventory)\n",
    "\n",
    "\n",
    "\"\"\"\n",
    "class Inventory:\n",
    "    lst = []\n",
    "\n",
    "    def __init__(self, __capacity):\n",
    "        self.__capacity = __capacity\n",
    "\n",
    "    def add_item(self, item):\n",
    "        self.item = item\n",
    "         \n",
    "\n",
    "        if self.__capacity != 0:\n",
    "            Inventory.lst += [self.item]\n",
    "            self.__capacity -= 1\n",
    "\n",
    "        if self.__capacity == 0:\n",
    "            print('No more space left')\n",
    "\n",
    "    def get_capacity(self):\n",
    "        print(self.__capacity)\n",
    "    \n",
    "    def __repr__(self):\n",
    "        return \"Collected item inventory: {}.\\nCapacity left: {}\".format(', '.join(Inventory.lst), self.__capacity)\n",
    "    \n",
    "\n",
    "        \n",
    "                                                 \n",
    "inventory = Inventory(4)                                 \n",
    "\n",
    "inventory.add_item(\"Bottle\") \n",
    "inventory.add_item(\"Oven\")                         \n",
    "inventory.add_item(\"Toaster\")                     \n",
    "inventory.get_capacity()\n",
    "print(inventory)   \n",
    "        \n",
    "            \n",
    "    \n",
    "    \n"
   ]
  }
 ],
 "metadata": {
  "interpreter": {
   "hash": "72f905a1bbd07dc295e964c0246fea79da9263e854d6ece130d260b8e4a73f49"
  },
  "kernelspec": {
   "display_name": "Python 3.10.1 64-bit",
   "language": "python",
   "name": "python3"
  },
  "language_info": {
   "codemirror_mode": {
    "name": "ipython",
    "version": 3
   },
   "file_extension": ".py",
   "mimetype": "text/x-python",
   "name": "python",
   "nbconvert_exporter": "python",
   "pygments_lexer": "ipython3",
   "version": "3.10.1"
  },
  "orig_nbformat": 4
 },
 "nbformat": 4,
 "nbformat_minor": 2
}
