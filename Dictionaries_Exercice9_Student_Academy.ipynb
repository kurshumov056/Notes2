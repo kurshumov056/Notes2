{
 "cells": [
  {
   "cell_type": "code",
   "execution_count": 117,
   "metadata": {},
   "outputs": [
    {
     "name": "stdout",
     "output_type": "stream",
     "text": [
      "Rob  ->  5.50\n",
      "Christian  ->  5.00\n",
      "Robert  ->  6.00\n"
     ]
    }
   ],
   "source": [
    "'''    \n",
    "                                9. Student Academy\n",
    "\n",
    "Write a program that keeps the information about students and their grades\n",
    "\n",
    "On the first line, you will  receive an integer number representing the next pair of rows. On the next lines, you will be receiving each student's name and their grade.\n",
    "\n",
    "Keep track of all grades for each student and keep only the students with an average grade higher than or equal to 4.50.\n",
    "\n",
    "Print the final dictionary with students and their average grade in the following format: \"{name} -> {averageGrade}\" \n",
    "\n",
    "Format the average grade to the 2nd decimal place.\n",
    "\n",
    "Input :     Output:  \n",
    "\n",
    "5\n",
    "\n",
    "John        John -> 5.00\n",
    "5.5         Alice -> 4.50\n",
    "John        George -> 5.00\n",
    "4.5\n",
    "Alice\n",
    "6\n",
    "Alice\n",
    "3\n",
    "George\n",
    "5\n",
    "\n",
    " \n",
    "\n",
    "Input:                  Output:\n",
    "\n",
    "5                       Rob -> 5.50\n",
    "Amanda                  Christian -> 5.00\n",
    "3.5                     Robert -> 6.00\n",
    "Amanda\n",
    "4\n",
    "Rob\n",
    "5.5\n",
    "Christian\n",
    "5\n",
    "Robert\n",
    "6\n",
    "\n",
    "'''\n",
    "\n",
    "\n",
    "def student_academy():\n",
    "    num_lines = int(input('Enter number of input lines: '))\n",
    "   \n",
    "    dct = {}\n",
    "\n",
    "    for i in range(0,num_lines):\n",
    "        name = input('Enter name: ')\n",
    "        grade = input('Enter grade: ')\n",
    "\n",
    "        if name not in dct.keys():\n",
    "            dct[name] = [float(grade)]\n",
    "\n",
    "        else:\n",
    "            dct[name] += [float(grade)]\n",
    "\n",
    "\n",
    "    for key, value in dct.items():\n",
    "        sum = 0\n",
    "        for num in value:\n",
    "            sum += num \n",
    "            average = sum / len(value)\n",
    "\n",
    "        if average >= 4.5:\n",
    "            print(key, ' -> ', f'{average:.2f}')\n",
    "\n",
    "        \n",
    "        \n",
    "        \n",
    "\n",
    "\n",
    "student_academy()"
   ]
  }
 ],
 "metadata": {
  "interpreter": {
   "hash": "72f905a1bbd07dc295e964c0246fea79da9263e854d6ece130d260b8e4a73f49"
  },
  "kernelspec": {
   "display_name": "Python 3.10.1 64-bit",
   "language": "python",
   "name": "python3"
  },
  "language_info": {
   "codemirror_mode": {
    "name": "ipython",
    "version": 3
   },
   "file_extension": ".py",
   "mimetype": "text/x-python",
   "name": "python",
   "nbconvert_exporter": "python",
   "pygments_lexer": "ipython3",
   "version": "3.10.1"
  },
  "orig_nbformat": 4
 },
 "nbformat": 4,
 "nbformat_minor": 2
}
