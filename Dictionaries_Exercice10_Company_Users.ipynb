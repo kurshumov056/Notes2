{
 "cells": [
  {
   "cell_type": "code",
   "execution_count": 37,
   "metadata": {},
   "outputs": [
    {
     "name": "stdout",
     "output_type": "stream",
     "text": [
      "SoftUni\n",
      "-- AA12345\n",
      "-- BB12345\n",
      "Microsoft\n",
      "-- CC12345\n",
      "HP\n",
      "-- BB12345\n"
     ]
    }
   ],
   "source": [
    "'''  \n",
    "                                        10. Company Users\n",
    "\n",
    "\n",
    "Write a program that keeps the information about companies and their employees.\n",
    "\n",
    "You will be receiving company names and an employees ID until you receive the command \"End\". Add each employee to the given company. Keep in mind that a company cannot have two\n",
    "employees with the same id. Print the company name and each employees ID in the following format.\n",
    "\n",
    "\"{company_name}\n",
    "-- {id1}\n",
    "-- {id2}\n",
    "...\n",
    "-- {idN}\n",
    "\n",
    "\n",
    "Input/Constraints\n",
    "\n",
    "        - Until you receive the \"End\" command, you will be receiving in the format: \"{company_name} -> {employee_id}\"\n",
    "        - The input always will be valid\n",
    "\n",
    "\n",
    "Input                       Output\n",
    "\n",
    "SoftUni -> AA12345          Softuni\n",
    "SoftUni -> BB12345          -- AA12345\n",
    "Microsoft -> CC12345        -- BB12345\n",
    "HP -> BB12345               Microsoft\n",
    "HP -> BB12345               -- CC12345\n",
    "End                         HP\n",
    "                            -- BB12345\n",
    "\n",
    "'''\n",
    "\n",
    "def company_users():\n",
    "    user_input = \" \"   \n",
    "    dct = {}\n",
    "    lst = ''\n",
    "\n",
    "    while user_input != 'End':\n",
    "        user_input = input('Enter username & course to register: ').split(\" -> \")\n",
    "        if user_input[0] == 'End':\n",
    "            break\n",
    "        company = user_input[0]\n",
    "        employee = user_input[1]\n",
    "\n",
    "        if company not in dct.keys():\n",
    "            dct[company] = [employee]\n",
    "\n",
    "        else:\n",
    "            dct[company] += [employee]\n",
    "\n",
    "    for key,values in dct.items():\n",
    "        print(key)\n",
    "        for value in set(values):\n",
    "            print('--', value)\n",
    "\n",
    "    \n",
    "\n",
    "        \n",
    "\n",
    "\n",
    "        \n",
    "\n",
    "\n",
    "company_users()"
   ]
  }
 ],
 "metadata": {
  "interpreter": {
   "hash": "72f905a1bbd07dc295e964c0246fea79da9263e854d6ece130d260b8e4a73f49"
  },
  "kernelspec": {
   "display_name": "Python 3.10.1 64-bit",
   "language": "python",
   "name": "python3"
  },
  "language_info": {
   "codemirror_mode": {
    "name": "ipython",
    "version": 3
   },
   "file_extension": ".py",
   "mimetype": "text/x-python",
   "name": "python",
   "nbconvert_exporter": "python",
   "pygments_lexer": "ipython3",
   "version": "3.10.1"
  },
  "orig_nbformat": 4
 },
 "nbformat": 4,
 "nbformat_minor": 2
}
