{
 "cells": [
  {
   "cell_type": "code",
   "execution_count": 13,
   "metadata": {},
   "outputs": [
    {
     "name": "stdout",
     "output_type": "stream",
     "text": [
      "Primari Diagonal-----------------\n",
      "[1, 7, 13, 19, 25]\n",
      "Secondary Diagonal-----------------\n",
      "[5, 9, 13, 17, 21]\n",
      "Below Primary Digaonal-----------------\n",
      "[6, 11, 12, 16, 17, 18, 21, 22, 23, 24]\n",
      "Below Primary including the Diagonal  Itself-----------------\n",
      "[1, 6, 7, 11, 12, 13, 16, 17, 18, 19, 21, 22, 23, 24, 25]\n"
     ]
    }
   ],
   "source": [
    "matrix = [\n",
    "    [1, 2 ,3 ,4, 5],\n",
    "    [6, 7, 8, 9, 10],\n",
    "    [11, 12, 13, 14, 15],\n",
    "    [16, 17, 18, 19, 20],\n",
    "    [21, 22, 23, 24, 25],\n",
    "\n",
    "]\n",
    "\n",
    "n = 5\n",
    "\n",
    "\n",
    "# --------------------Primary Diagonal Formula-----------------\n",
    "print('Primari Diagonal-----------------')\n",
    "print(\n",
    "    [matrix[i][i] for i in range(n)]\n",
    ")\n",
    "\n",
    "# --------------------Secondary Diagonal Formula-----------------\n",
    "print('Secondary Diagonal-----------------')\n",
    "print(\n",
    "    [matrix[i][n - i - 1] for i in range(n)]\n",
    ")\n",
    "\n",
    "# --------------------Below Primary Diagonal Formula-----------------\n",
    "print('Below Primary Digaonal-----------------')\n",
    "below_primary_diagonal = []\n",
    "for r in range(n):\n",
    "    for c in range(r):\n",
    "        below_primary_diagonal.append(matrix[r][c])\n",
    "\n",
    "print(below_primary_diagonal)\n",
    "\n",
    "# --------------------Below Primary including the Diagonal  Itself Formula -----------------\n",
    "print('Below Primary including the Diagonal  Itself-----------------')\n",
    "below_primary_diagonal = []\n",
    "\n",
    "for r in range(n):\n",
    "    for c in range(r + 1):\n",
    "        below_primary_diagonal.append(matrix[r][c])\n",
    "\n",
    "print(below_primary_diagonal)\n",
    "\n"
   ]
  },
  {
   "cell_type": "code",
   "execution_count": null,
   "metadata": {},
   "outputs": [],
   "source": []
  }
 ],
 "metadata": {
  "interpreter": {
   "hash": "72f905a1bbd07dc295e964c0246fea79da9263e854d6ece130d260b8e4a73f49"
  },
  "kernelspec": {
   "display_name": "Python 3.10.1 64-bit",
   "language": "python",
   "name": "python3"
  },
  "language_info": {
   "codemirror_mode": {
    "name": "ipython",
    "version": 3
   },
   "file_extension": ".py",
   "mimetype": "text/x-python",
   "name": "python",
   "nbconvert_exporter": "python",
   "pygments_lexer": "ipython3",
   "version": "3.10.1"
  },
  "orig_nbformat": 4
 },
 "nbformat": 4,
 "nbformat_minor": 2
}
