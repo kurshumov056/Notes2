{
 "cells": [
  {
   "cell_type": "code",
   "execution_count": 16,
   "metadata": {},
   "outputs": [
    {
     "name": "stdout",
     "output_type": "stream",
     "text": [
      "t - 6\n",
      "e - 3\n",
      "x - 3\n"
     ]
    }
   ],
   "source": [
    "'''  \n",
    "                                                1. Count\n",
    "\n",
    "Write a program that counts all characters in a string except for space (\" \").\n",
    "\n",
    "Print all the occurences in the following format.\n",
    "\n",
    "\"{char} -> {occurences}\"\n",
    "\n",
    "Examples\n",
    "\n",
    "\n",
    "\n",
    "Input                       Output\n",
    "text                        t -> 2\n",
    "                            e -> 1\n",
    "                            x -> 1\n",
    "                            \n",
    "\n",
    "Input                       Output\n",
    "text text text              t -> 6\n",
    "                            e -> 3\n",
    "                            x -> 3\n",
    "\n",
    "'''\n",
    "\n",
    "\n",
    "def count_char(chars):\n",
    "\n",
    "    my_dict = {}\n",
    "    characters = str(chars).replace(\" \", \"\")\n",
    "    for char in characters:\n",
    "        if char not in my_dict.keys():\n",
    "            my_dict[char] = 1\n",
    "\n",
    "        else:\n",
    "            my_dict[char] += 1\n",
    "\n",
    "    for key,value in my_dict.items():\n",
    "        print(f'{key} - {value}')\n",
    "\n",
    "\n",
    "\n",
    "count_char('text text text')"
   ]
  }
 ],
 "metadata": {
  "interpreter": {
   "hash": "72f905a1bbd07dc295e964c0246fea79da9263e854d6ece130d260b8e4a73f49"
  },
  "kernelspec": {
   "display_name": "Python 3.10.1 64-bit",
   "language": "python",
   "name": "python3"
  },
  "language_info": {
   "codemirror_mode": {
    "name": "ipython",
    "version": 3
   },
   "file_extension": ".py",
   "mimetype": "text/x-python",
   "name": "python",
   "nbconvert_exporter": "python",
   "pygments_lexer": "ipython3",
   "version": "3.10.1"
  },
  "orig_nbformat": 4
 },
 "nbformat": 4,
 "nbformat_minor": 2
}
