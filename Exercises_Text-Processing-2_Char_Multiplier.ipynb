{
 "cells": [
  {
   "cell_type": "code",
   "execution_count": 108,
   "metadata": {},
   "outputs": [
    {
     "name": "stdout",
     "output_type": "stream",
     "text": [
      "52114\n",
      "7647\n",
      "9700\n"
     ]
    }
   ],
   "source": [
    "'''  \n",
    "                    2. Character Multiplier\n",
    "\n",
    "\n",
    "Create a program that receives two strings on a single line separated by a single space. Then it prints the sum of their multiplied character codes as follows: str1[0] with str2[0]\n",
    "and add the result to the total sume, then continue with the next two characters. If one of the strings is longer than the other, add the remaining character codes to the total \n",
    "sum without multiplication.\n",
    "\n",
    "Examples:\n",
    "\n",
    "\n",
    "Input                       Output\n",
    "George Peter                52114\n",
    "\n",
    "\n",
    "Input                       Output\n",
    "123 522                     7647\n",
    "\n",
    "\n",
    "Input                       Output\n",
    "a aaaa                      9700\n",
    "\n",
    "\n",
    "\n",
    "'''\n",
    "\n",
    "\n",
    "def char_multiplier(char_input):\n",
    "    word = char_input.split(\" \")\n",
    "    total_sum = 0\n",
    "\n",
    "    if len(word[0]) == len(word[1]):\n",
    "        for x,y in zip(word[0],word[1]):\n",
    "            total_sum += ord(x) * ord(y)\n",
    "         \n",
    "            \n",
    "\n",
    "    else:\n",
    "        if len(word[0]) < len(word[1]):\n",
    "            length = len(word[0])\n",
    "            long_word = word[1][:length]\n",
    "            short_word = word[0]\n",
    "            remaining_long_word = word[1][length:]\n",
    "        else:\n",
    "            length = len(word[1]) \n",
    "            long_word = word[0][:length]\n",
    "            short_word = word[1]\n",
    "            remaining_long_word = word[0][length:]\n",
    "            # print('Length:', length, 'Long word:', long_word, 'Short word:', short_word, 'Remaning long word:', remaining_long_word)\n",
    "\n",
    "        for x,y in zip(short_word, long_word):\n",
    "            total_sum += ord(x) * ord(y)\n",
    " \n",
    "        for char in remaining_long_word:\n",
    "            total_sum += ord(char)\n",
    "             \n",
    "\n",
    "    print(total_sum)\n",
    "\n",
    "\n",
    "\n",
    "\n",
    "char_multiplier('George Peter')\n",
    "char_multiplier('123 522')\n",
    "char_multiplier('a aaaa')"
   ]
  }
 ],
 "metadata": {
  "interpreter": {
   "hash": "72f905a1bbd07dc295e964c0246fea79da9263e854d6ece130d260b8e4a73f49"
  },
  "kernelspec": {
   "display_name": "Python 3.10.1 64-bit",
   "language": "python",
   "name": "python3"
  },
  "language_info": {
   "codemirror_mode": {
    "name": "ipython",
    "version": 3
   },
   "file_extension": ".py",
   "mimetype": "text/x-python",
   "name": "python",
   "nbconvert_exporter": "python",
   "pygments_lexer": "ipython3",
   "version": "3.10.1"
  },
  "orig_nbformat": 4
 },
 "nbformat": 4,
 "nbformat_minor": 2
}
