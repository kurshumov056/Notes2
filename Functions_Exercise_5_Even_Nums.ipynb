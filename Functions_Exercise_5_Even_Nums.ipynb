{
 "cells": [
  {
   "cell_type": "code",
   "execution_count": 69,
   "metadata": {},
   "outputs": [
    {
     "name": "stdout",
     "output_type": "stream",
     "text": [
      "['2', '4']\n",
      "['2', '-2']\n"
     ]
    }
   ],
   "source": [
    "'''    \n",
    "\n",
    "                            5. Even Numbers\n",
    "\n",
    "Write a program that receives a sequence of numbers (integers) separated by a single space. It should print a list of only the even numbers. Use filters()\n",
    "\n",
    "Examples\n",
    "\n",
    "\n",
    "Input:                Output:\n",
    "1 2 3 4               [2, 4]\n",
    "\n",
    "\n",
    "Input:                Output:\n",
    "1 2 3 -1 -2 -3        [2, -2]\n",
    "\n",
    "'''\n",
    "\n",
    "def even_nums(sequence):\n",
    "\n",
    "    lst = sequence.split(\" \")\n",
    "    result = list(filter(lambda x: int(x)%2==0, lst))\n",
    "    print(result)\n",
    "\n",
    "\n",
    "    \n",
    "even_nums('1 2 3 4')\n",
    "even_nums('1 2 3 -1 -2 -3')"
   ]
  }
 ],
 "metadata": {
  "interpreter": {
   "hash": "72f905a1bbd07dc295e964c0246fea79da9263e854d6ece130d260b8e4a73f49"
  },
  "kernelspec": {
   "display_name": "Python 3.10.1 64-bit",
   "language": "python",
   "name": "python3"
  },
  "language_info": {
   "codemirror_mode": {
    "name": "ipython",
    "version": 3
   },
   "file_extension": ".py",
   "mimetype": "text/x-python",
   "name": "python",
   "nbconvert_exporter": "python",
   "pygments_lexer": "ipython3",
   "version": "3.10.1"
  },
  "orig_nbformat": 4
 },
 "nbformat": 4,
 "nbformat_minor": 2
}
