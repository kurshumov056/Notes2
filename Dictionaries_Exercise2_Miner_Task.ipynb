{
 "cells": [
  {
   "cell_type": "code",
   "execution_count": 59,
   "metadata": {},
   "outputs": [
    {
     "name": "stdout",
     "output_type": "stream",
     "text": [
      "gold  -->  170\n",
      "silver  -->  10\n",
      "copper  -->  17\n"
     ]
    }
   ],
   "source": [
    "'''   \n",
    "                                                2. A Miner Task\n",
    "\n",
    "You will be given a sequence of strings,each on a new line until you receive the \"stop\" commang. Every odd line on the console represents a resource (e.g., Gold, Silver, Copper etc)\n",
    "and every even line - quantity. Your task is to collect the resources and print them each on a new line. \n",
    "\n",
    "Print the resources and their quantities in the following format:\n",
    "    \"{resources} -> {quantity}\"\n",
    "\n",
    "    The quantities will be in the range (1...2 000 000 000)\n",
    "\n",
    "\n",
    "Examples\n",
    "\n",
    "Input                   Output\n",
    "\n",
    "Gold                    Gold -> 155\n",
    "155                     Silver -> 10\n",
    "Silver                  Copper -> 17\n",
    "10\n",
    "Copper\n",
    "17\n",
    "stop   \n",
    "\n",
    "_________________________________________\n",
    "\n",
    "Input                   Output\n",
    "\n",
    "gold                    gold -> 170\n",
    "155                     silver -> 10\n",
    "silver                  copper -> 17\n",
    "10\n",
    "copper\n",
    "17\n",
    "gold\n",
    "15\n",
    "stop\n",
    "'''\n",
    "\n",
    "def miner_task():\n",
    "   \n",
    "    count = 0\n",
    "    resource = \" \"\n",
    "    my_dict = {}\n",
    "\n",
    "    while resource != 'stop' :\n",
    "       resource = input('Enter Resource')\n",
    "       if resource != 'stop':\n",
    "           quantity = input('Enter Quantity')\n",
    "           if quantity != 'stop':\n",
    "               if resource not in my_dict.keys():\n",
    "                   my_dict[resource] = int(quantity)\n",
    "\n",
    "               else:\n",
    "                   my_dict[resource] += int(quantity)\n",
    "\n",
    "    for key,value in my_dict.items():\n",
    "        print(key, ' --> ', value)\n",
    "\n",
    "miner_task()"
   ]
  }
 ],
 "metadata": {
  "interpreter": {
   "hash": "72f905a1bbd07dc295e964c0246fea79da9263e854d6ece130d260b8e4a73f49"
  },
  "kernelspec": {
   "display_name": "Python 3.10.1 64-bit",
   "language": "python",
   "name": "python3"
  },
  "language_info": {
   "codemirror_mode": {
    "name": "ipython",
    "version": 3
   },
   "file_extension": ".py",
   "mimetype": "text/x-python",
   "name": "python",
   "nbconvert_exporter": "python",
   "pygments_lexer": "ipython3",
   "version": "3.10.1"
  },
  "orig_nbformat": 4
 },
 "nbformat": 4,
 "nbformat_minor": 2
}
