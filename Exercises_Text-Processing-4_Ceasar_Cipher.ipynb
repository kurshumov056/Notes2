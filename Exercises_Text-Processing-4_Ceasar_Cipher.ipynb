{
 "cells": [
  {
   "cell_type": "code",
   "execution_count": 121,
   "metadata": {},
   "outputs": [
    {
     "name": "stdout",
     "output_type": "stream",
     "text": [
      "Surjudpplqj#lv#frro$\n",
      "Rqh#|hdu#kdv#698#gd|v1\n"
     ]
    }
   ],
   "source": [
    "'''    \n",
    "                            4. Ceasar Cipher\n",
    "\n",
    "\n",
    "Write a program that returns an encrypted version of the same text. Encrypt the text by replacing each character with the corresponding character three positions forward in \n",
    "the ASCII table. For example, A would be replaced with D, B would be come E, and so on. Print the encrypted text.\n",
    "\n",
    "Examples\n",
    "\n",
    "Input                               Output\n",
    "Programming is cool!                Surjudpplqj#Iv#frro$\n",
    "\n",
    "Input                               Output\n",
    "\n",
    "One year has 365 days.              Rqh#|hdu#kdv#698#gd|v1\n",
    "\n",
    "\n",
    "\n",
    "'''\n",
    "\n",
    "def ceasar_cipher(input_str):\n",
    "    text = ''.join([chr(ord(x)+3) for x in input_str])\n",
    "    print(text)\n",
    "\n",
    "\n",
    "ceasar_cipher('Programming is cool!')\n",
    "ceasar_cipher('One year has 365 days.')"
   ]
  }
 ],
 "metadata": {
  "interpreter": {
   "hash": "72f905a1bbd07dc295e964c0246fea79da9263e854d6ece130d260b8e4a73f49"
  },
  "kernelspec": {
   "display_name": "Python 3.10.1 64-bit",
   "language": "python",
   "name": "python3"
  },
  "language_info": {
   "codemirror_mode": {
    "name": "ipython",
    "version": 3
   },
   "file_extension": ".py",
   "mimetype": "text/x-python",
   "name": "python",
   "nbconvert_exporter": "python",
   "pygments_lexer": "ipython3",
   "version": "3.10.1"
  },
  "orig_nbformat": 4
 },
 "nbformat": 4,
 "nbformat_minor": 2
}
