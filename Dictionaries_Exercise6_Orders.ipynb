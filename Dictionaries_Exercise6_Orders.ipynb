{
 "cells": [
  {
   "cell_type": "code",
   "execution_count": 68,
   "metadata": {},
   "outputs": [
    {
     "name": "stdout",
     "output_type": "stream",
     "text": [
      "User input:  ['Beer', '2.20', '100']\n",
      "User input:  ['IceTea', '1.50', '50']\n",
      "User input:  ['NukaCola', '3.30', '80']\n",
      "User input:  ['Water', '1.00', '500']\n",
      "User input:  ['buy']\n",
      "\n",
      "Final Result Below:\n",
      "Beer  -->  220.00\n",
      "IceTea  -->  75.00\n",
      "NukaCola  -->  264.00\n",
      "Water  -->  500.00\n"
     ]
    }
   ],
   "source": [
    "'''   \n",
    "                                    6. Orders\n",
    "\n",
    "Write a program that keeps the information about products and their prices. Each product has a name a price, and a quantity:\n",
    "        - if the product doesn't exist yet, add it with its starting quantity\n",
    "        - If you receive a product which already exists, increases its quantity by the input quantity and if its price is different, replace the price as well.\n",
    "\n",
    "You will receive products names, prices and quantities on new lines. Until you receive the command \"buy\", keep adding items. Finally, print all items with their names and\n",
    "the total price of each products.\n",
    "\n",
    "Input:\n",
    "\n",
    "        - Until you receive \"buy\", the products will be coming in the format: \"{name} {price} {quantity}\".\n",
    "        - The product data is always delimited by a single space.\n",
    "\n",
    "Output:\n",
    "        - Print information about each product in the following format: \"{product_name} -> {total_price}\" \n",
    "        - Format the total price to the 2nd digit after the decimal seperator.\n",
    "\n",
    "\n",
    "Examples\n",
    "\n",
    "Input                           Output\n",
    "Beer 2.20 100                   Beer -> 220.00\n",
    "IceTea 1.50 50                  IceTea -> 75.00\n",
    "NukaCola 3.30 80                NukaCola -> 264.00\n",
    "Water 1.00 500                  Water -> 500.00\n",
    "buy\n",
    "\n",
    "\n",
    "\n",
    "'''\n",
    "\n",
    "def orders():\n",
    "    user_input = \" \"    \n",
    "    dct = {}\n",
    "    product, price, quantity = [],[],[]\n",
    "\n",
    "    while 'buy' not in user_input:\n",
    "        user_input = input('Enter Product, Price and Quantity: ').split(' ')\n",
    "        print('User input: ', user_input)\n",
    "\n",
    "        if 'buy' in user_input:\n",
    "            break\n",
    "\n",
    "        product += [user_input[0]]\n",
    "        price += [user_input[1]]\n",
    "        quantity += [user_input[2]]\n",
    "\n",
    "    for i in range(len(product)):\n",
    "        product_i = product[i]\n",
    "        price_i = price[i]\n",
    "        quantity_i = int(quantity[i])\n",
    "\n",
    "        if product_i not in dct.keys():\n",
    "            dct[product_i] = [price_i,quantity_i]\n",
    "        \n",
    "        else:\n",
    "            prev_quantity = int(dct[product_i][1])\n",
    "            dct[product_i] = [price_i,prev_quantity+quantity_i]\n",
    "            \n",
    "    print('\\nFinal Result Below:')\n",
    "\n",
    "    for key, value in dct.items():\n",
    "        total_cost = float(value[0]) * int(value[1])\n",
    "        print(key, ' --> ', f'{total_cost:.2f}')\n",
    "orders()"
   ]
  }
 ],
 "metadata": {
  "interpreter": {
   "hash": "72f905a1bbd07dc295e964c0246fea79da9263e854d6ece130d260b8e4a73f49"
  },
  "kernelspec": {
   "display_name": "Python 3.10.1 64-bit",
   "language": "python",
   "name": "python3"
  },
  "language_info": {
   "codemirror_mode": {
    "name": "ipython",
    "version": 3
   },
   "file_extension": ".py",
   "mimetype": "text/x-python",
   "name": "python",
   "nbconvert_exporter": "python",
   "pygments_lexer": "ipython3",
   "version": "3.10.1"
  },
  "orig_nbformat": 4
 },
 "nbformat": 4,
 "nbformat_minor": 2
}
