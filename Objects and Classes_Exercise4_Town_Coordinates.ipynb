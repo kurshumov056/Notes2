{
 "cells": [
  {
   "cell_type": "code",
   "execution_count": 120,
   "metadata": {},
   "outputs": [
    {
     "name": "stdout",
     "output_type": "stream",
     "text": [
      "Town:  Sofia   |   Latitude:  42* 41' 51.04\" N     |     Longitude:  23* 19' 26.94\" E     \n"
     ]
    }
   ],
   "source": [
    "'''  \n",
    "                                                        4. Town\n",
    "\n",
    "Create a class Town. The __init__ method should receive the name of the town (string). Each town has a latitute \"0`N\" upon initialization and a longitude \"0`E\" upon initialization.\n",
    "\n",
    "It should also have 3 more method:\n",
    "\n",
    "        - set_latitude(latitude) - sets a latitude\n",
    "        - set_longitude(longitude) - sets a longitude\n",
    "        - __repr__ - returns a representation of the object in the following format:\n",
    "        \"Town: {name}  |  Latitude: {latitude}   |   Longitude:  {longitude}\n",
    "\n",
    "\n",
    "Example:\n",
    "\n",
    "                Test Code                               Output\n",
    "\n",
    "town = Town(\"Sofia\")                              Town: Sofia  | Latitude: 42* 41' 51.04\"    \n",
    "town.set_latitude(\"42* 41\\' 51.04\\\" N\")           N Longitude: 23* 18' 26.94\" E\n",
    "town.set_longitude(\"23* 19\\' 26.94\\\" E\")                      \n",
    "\n",
    "\n",
    "'''\n",
    "\n",
    "class Town:\n",
    "\n",
    "    def __init__(self, town):\n",
    "        self.town = town\n",
    "\n",
    "    def set_latitude(self, latitude):\n",
    "        self.latitude = latitude\n",
    "\n",
    "    def set_longitude(self, longitude):\n",
    "        self.longitude = longitude \n",
    "\n",
    "    def __repr__(self):\n",
    "        return \"Town:  {}   |   Latitude:  {}     |     Longitude:  {}     \".format(self.town, self.latitude, self.longitude)\n",
    "\n",
    "town = Town(\"Sofia\")                                \n",
    "town.set_latitude(\"42* 41\\' 51.04\\\" N\")           \n",
    "town.set_longitude(\"23* 19\\' 26.94\\\" E\")\n",
    "print(town)\n",
    "\n"
   ]
  },
  {
   "cell_type": "code",
   "execution_count": null,
   "metadata": {},
   "outputs": [],
   "source": []
  }
 ],
 "metadata": {
  "interpreter": {
   "hash": "72f905a1bbd07dc295e964c0246fea79da9263e854d6ece130d260b8e4a73f49"
  },
  "kernelspec": {
   "display_name": "Python 3.10.1 64-bit",
   "language": "python",
   "name": "python3"
  },
  "language_info": {
   "codemirror_mode": {
    "name": "ipython",
    "version": 3
   },
   "file_extension": ".py",
   "mimetype": "text/x-python",
   "name": "python",
   "nbconvert_exporter": "python",
   "pygments_lexer": "ipython3",
   "version": "3.10.1"
  },
  "orig_nbformat": 4
 },
 "nbformat": 4,
 "nbformat_minor": 2
}
