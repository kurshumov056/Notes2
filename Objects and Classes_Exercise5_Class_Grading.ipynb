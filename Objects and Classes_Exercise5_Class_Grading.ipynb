{
 "cells": [
  {
   "cell_type": "code",
   "execution_count": null,
   "metadata": {},
   "outputs": [],
   "source": []
  },
  {
   "cell_type": "code",
   "execution_count": 187,
   "metadata": {},
   "outputs": [
    {
     "name": "stdout",
     "output_type": "stream",
     "text": [
      "The students in 118 are : Peter, George, Amy and the average class grade is: 4.33 \n"
     ]
    }
   ],
   "source": [
    "'''      \n",
    "                                    5. Class\n",
    "\n",
    "Create a Class. The __init__ method should receive the name of the class. Each class should also have 2 empty lists - students and grades. The class should also have 3 additional methods:\n",
    "\n",
    "        - add_student(name: str, grade: float) - adds the student and the grade in the two lists. If there is free space in the class\n",
    "\n",
    "        - get_average_grade() - returns the average of all existing grades fromatted to the second decimal point (as a number)\n",
    "\n",
    "        - __repr__ - returns the string (single line):\n",
    "\n",
    "\"The students in {class_name}: {students}. Average grade: {average_grade}\".\n",
    "    The students must be seperated by a comma and a space: \", \"\n",
    "\n",
    "\n",
    "Example\n",
    "\n",
    "import statistics\n",
    "\n",
    "\n",
    "Test Code                                       Output\n",
    "\n",
    "a_class = Class(\"118\")                          The students in 118: Peter, George, Amy\n",
    "a_class.add_student(\"Peter\", 4.80)              Average grade:4.77\n",
    "a_class.add_student(\"George\" , 6.00) \n",
    "a_class.add_student(\"Amy\" , 3.50)\n",
    "print(a_class)\n",
    "'''\n",
    "\n",
    "class Class: \n",
    "\n",
    "    students = []\n",
    "    grades = []\n",
    "   \n",
    "    def __init__(self, class_name):\n",
    "        self.class_name = class_name\n",
    "\n",
    "    def add_student(self, name, grade):\n",
    "        self.name = name\n",
    "        self.grade = grade\n",
    "    \n",
    "        Class.students += [self.name]\n",
    "        Class.grades += [int(self.grade)]\n",
    "\n",
    "    def get_average_grade(self):\n",
    "        self.result =  f'{sum(Class.grades) / len(Class.students):.2f}'    \n",
    "        \n",
    "    def __repr__(self):\n",
    "        return \"The students in {} are : {} and the average class grade is: {} \".format(self.class_name, ', '.join(Class.students), self.result)\n",
    "\n",
    "school = Class(118)\n",
    " \n",
    "                  \n",
    "school.add_student(\"Peter\", 4.80) \n",
    "school.add_student(\"George\" , 6.00) \n",
    "school.add_student(\"Amy\" , 3.50)\n",
    "school.get_average_grade()  \n",
    "print(school)      \n",
    " "
   ]
  }
 ],
 "metadata": {
  "interpreter": {
   "hash": "72f905a1bbd07dc295e964c0246fea79da9263e854d6ece130d260b8e4a73f49"
  },
  "kernelspec": {
   "display_name": "Python 3.10.1 64-bit",
   "language": "python",
   "name": "python3"
  },
  "language_info": {
   "codemirror_mode": {
    "name": "ipython",
    "version": 3
   },
   "file_extension": ".py",
   "mimetype": "text/x-python",
   "name": "python",
   "nbconvert_exporter": "python",
   "pygments_lexer": "ipython3",
   "version": "3.10.1"
  },
  "orig_nbformat": 4
 },
 "nbformat": 4,
 "nbformat_minor": 2
}
