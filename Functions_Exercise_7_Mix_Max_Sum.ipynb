{
 "cells": [
  {
   "cell_type": "code",
   "execution_count": 104,
   "metadata": {},
   "outputs": [
    {
     "name": "stdout",
     "output_type": "stream",
     "text": [
      "The minimum number is 2\n",
      "The max number is 6\n",
      "The sum number is 12\n"
     ]
    }
   ],
   "source": [
    "'''  \n",
    "                    7. Min Max and Sum\n",
    "\n",
    "Write a program that receives a sequence of numbers seperated by a single space. It should print the min and max values of the given numbers and the sum of all the numbers \n",
    "in the list.  Use min(), max(), sum().\n",
    "\n",
    "The output should be as follows:\n",
    "    - On the first line: \"The minimum number is {minimum number}\"\n",
    "    - On the second line: \"The maximum number is {maximum number}\"\n",
    "    - On the third line: \"The sum number is{sum of all numbers}\"\n",
    "\n",
    "Example\n",
    "\n",
    "Input:              Output:\n",
    "2 4 6               The minimum number is 2\n",
    "                    The maximum number is 6\n",
    "                    The sum number is 12\n",
    "\n",
    "Input:                            Output:\n",
    "12 52 11 53 2 8 45                The minimum number is 2\n",
    "                                  The maximum number is 53\n",
    "                                  The sum number is 183\n",
    "'''\n",
    "\n",
    "def min_max_sum(sequence):\n",
    "    \n",
    "    lst = list(map(int, sequence.split(\" \")))\n",
    " \n",
    "    min_r, max_r, sum_r = min(lst), max(lst), sum(lst)\n",
    "   \n",
    "\n",
    "    print(\"The minimum number is {}\".format(min_r))\n",
    "    print(\"The max number is {}\".format(max_r))\n",
    "    print(\"The sum number is {}\".format(sum_r))\n",
    "    \n",
    "\n",
    "\n",
    "min_max_sum('2 4 6')\n",
    "\n",
    "\n",
    "\n"
   ]
  },
  {
   "cell_type": "code",
   "execution_count": null,
   "metadata": {},
   "outputs": [],
   "source": []
  }
 ],
 "metadata": {
  "interpreter": {
   "hash": "72f905a1bbd07dc295e964c0246fea79da9263e854d6ece130d260b8e4a73f49"
  },
  "kernelspec": {
   "display_name": "Python 3.10.1 64-bit",
   "language": "python",
   "name": "python3"
  },
  "language_info": {
   "codemirror_mode": {
    "name": "ipython",
    "version": 3
   },
   "file_extension": ".py",
   "mimetype": "text/x-python",
   "name": "python",
   "nbconvert_exporter": "python",
   "pygments_lexer": "ipython3",
   "version": "3.10.1"
  },
  "orig_nbformat": 4
 },
 "nbformat": 4,
 "nbformat_minor": 2
}
