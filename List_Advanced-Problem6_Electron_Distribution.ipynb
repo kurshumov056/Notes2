{
 "cells": [
  {
   "cell_type": "code",
   "execution_count": 1,
   "metadata": {},
   "outputs": [
    {
     "name": "stdout",
     "output_type": "stream",
     "text": [
      "1 shell_num\n",
      "2 formula\n",
      "36 electrons\n",
      "----------------------------\n",
      "2 shell_num\n",
      "8 formula\n",
      "18 electrons\n",
      "----------------------------\n",
      "3 shell_num\n",
      "18 formula\n",
      "-14 electrons\n",
      "----------------------------\n",
      "final result:  [2, 8, 18]\n"
     ]
    }
   ],
   "source": [
    "'''    \n",
    "                            6. Electron Distribution\n",
    "\n",
    "\n",
    "You are a mad scientist, and you have deided to play with electron distribution among atom shells. The basic idea of electron distribution is that electrons should fill a shell\n",
    "until there are no more electrons left. The rules for electron distribution are as follows:\n",
    "\n",
    "    - The maximum number of electrons in a shell can be 2n^2, where n is the position of a shell (starting from 1). For example, the maximum number of electrons in the 3rd shell\n",
    "    can be 2*3^2 = 18\n",
    "                                Note: \"^2\" is equivelent to squared \"**\"\n",
    "\n",
    "    - You should start filling the shells from the first one at the first position.\n",
    "\n",
    "    - If the electrons are enough to fill the first shell, the left unoccupied electons should fill the following shell and so on.\n",
    "\n",
    "In the end, print a list with the filled shells.\n",
    "\n",
    "Example\n",
    "\n",
    "Input:                      Output:\n",
    "10                          [2, 8]\n",
    "\n",
    "Input:                      Output:\n",
    "44                          [2, 8, 18, 16]\n",
    "\n",
    "'''\n",
    "\n",
    "def electron_distribution(electrons_number):\n",
    "\n",
    "    shell_num = 1\n",
    "    lst = []\n",
    "    electrons = int(electrons_number)\n",
    "\n",
    "    while electrons > 0:\n",
    "\n",
    "        print( shell_num, 'shell_num')\n",
    "        formula = 2 * (shell_num ** 2)\n",
    "        print(formula, 'formula')\n",
    "\n",
    "        if formula < electrons or formula - electrons == 0:\n",
    "            lst += [formula]\n",
    "\n",
    "        else:\n",
    "            lst += ['formula']\n",
    "\n",
    "            \n",
    "        shell_num += 1\n",
    "        electrons -= abs(2*(shell_num**2))\n",
    "\n",
    "        print(electrons, 'electrons')\n",
    "        print('----------------------------')\n",
    "        \n",
    "    print('final result: ',lst)\n",
    "\n",
    "        \n",
    "\n",
    "        \n",
    "\n",
    "\n",
    "\n",
    "electron_distribution(44)\n",
    "\n",
    "\n",
    "\n",
    "\n"
   ]
  },
  {
   "cell_type": "code",
   "execution_count": null,
   "metadata": {},
   "outputs": [],
   "source": []
  },
  {
   "cell_type": "code",
   "execution_count": null,
   "metadata": {},
   "outputs": [],
   "source": []
  },
  {
   "cell_type": "code",
   "execution_count": null,
   "metadata": {},
   "outputs": [],
   "source": []
  }
 ],
 "metadata": {
  "interpreter": {
   "hash": "72f905a1bbd07dc295e964c0246fea79da9263e854d6ece130d260b8e4a73f49"
  },
  "kernelspec": {
   "display_name": "Python 3.10.1 64-bit",
   "language": "python",
   "name": "python3"
  },
  "language_info": {
   "codemirror_mode": {
    "name": "ipython",
    "version": 3
   },
   "file_extension": ".py",
   "mimetype": "text/x-python",
   "name": "python",
   "nbconvert_exporter": "python",
   "pygments_lexer": "ipython3",
   "version": "3.10.1"
  },
  "orig_nbformat": 4
 },
 "nbformat": 4,
 "nbformat_minor": 2
}
