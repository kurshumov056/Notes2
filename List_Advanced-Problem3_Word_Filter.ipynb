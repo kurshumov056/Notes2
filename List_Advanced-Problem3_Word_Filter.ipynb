{
 "cells": [
  {
   "cell_type": "code",
   "execution_count": 162,
   "metadata": {},
   "outputs": [
    {
     "name": "stdout",
     "output_type": "stream",
     "text": [
      "kiwi\n",
      "orange\n",
      "banana\n"
     ]
    }
   ],
   "source": [
    "'''  \n",
    "                3. Word Filter\n",
    "\n",
    "Using comprehension, write a program that receives some text, separated by space and take only those words whose length is even. Print each word on a new line.\n",
    "\n",
    "Examples:\n",
    "\n",
    "Input:                              Output:\n",
    "kiwi orange banana apple            kiwi\n",
    "                                    orange\n",
    "                                    banana\n",
    "\n",
    "Input                               Output\n",
    "pazza cake pasta chips              cake\n",
    "\n",
    "'''\n",
    "\n",
    "def word_filter(inp):  \n",
    "    user_input = inp.split(\" \")\n",
    "    result = [x for x in user_input if len(x)%2==0]\n",
    "\n",
    "    print('\\n'.join(result))\n",
    "\n",
    "word_filter('kiwi orange banana apple')"
   ]
  },
  {
   "cell_type": "code",
   "execution_count": null,
   "metadata": {},
   "outputs": [],
   "source": []
  },
  {
   "cell_type": "code",
   "execution_count": null,
   "metadata": {},
   "outputs": [],
   "source": []
  },
  {
   "cell_type": "code",
   "execution_count": null,
   "metadata": {},
   "outputs": [],
   "source": []
  }
 ],
 "metadata": {
  "interpreter": {
   "hash": "72f905a1bbd07dc295e964c0246fea79da9263e854d6ece130d260b8e4a73f49"
  },
  "kernelspec": {
   "display_name": "Python 3.10.1 64-bit",
   "language": "python",
   "name": "python3"
  },
  "language_info": {
   "codemirror_mode": {
    "name": "ipython",
    "version": 3
   },
   "file_extension": ".py",
   "mimetype": "text/x-python",
   "name": "python",
   "nbconvert_exporter": "python",
   "pygments_lexer": "ipython3",
   "version": "3.10.1"
  },
  "orig_nbformat": 4
 },
 "nbformat": 4,
 "nbformat_minor": 2
}
