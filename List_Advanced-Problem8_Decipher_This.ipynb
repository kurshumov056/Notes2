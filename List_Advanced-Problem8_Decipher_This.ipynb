{
 "cells": [
  {
   "cell_type": "code",
   "execution_count": 612,
   "metadata": {},
   "outputs": [
    {
     "name": "stdout",
     "output_type": "stream",
     "text": [
      "['72olle', '103doo', '100ya']\n",
      "['Hello', 'good', 'day']\n",
      "['82yade', '115te', '103o']\n",
      "['Ready', 'set', 'goo']\n"
     ]
    }
   ],
   "source": [
    "'''     \n",
    "                            8. Decipher This! \n",
    "\n",
    "You are given a secret message you should decipher. To do that, you will need to know that in each word:\n",
    "    - The second and the last letter are switched (e.g. Holle means Hello)\n",
    "    - The first letter is replaced by its character code (e.g. 72 means H)\n",
    "\n",
    "Example:\n",
    "\n",
    "Input:                          Output:\n",
    "72olle 103doo 100ya             Hello  good day\n",
    "\n",
    "Input:                          Output:\n",
    "82yade 115te 103o               Ready set go\n",
    "\n",
    "'''\n",
    "\n",
    "def decipher_this(text):\n",
    "\n",
    "    message = text.split(\" \")\n",
    "    print(message)\n",
    "    lst = []\n",
    "    holder = \"\"\n",
    "    holder2 = \"\"\n",
    "    lst2 = []\n",
    "    cleaner = list(filter(lambda x: not x.isdigit(), message))\n",
    " \n",
    "    for x in message:\n",
    "        holder = \"\"\n",
    "        holder2 = \"\"\n",
    "\n",
    "        for y in x:\n",
    "            if y.isdigit():\n",
    "                holder+= y\n",
    "            else:\n",
    "                holder2 += y\n",
    "\n",
    "        lst2 += [holder2]\n",
    "        lst += [chr(int(holder))]\n",
    "\n",
    "    message_with_removed_digits = [str(x[-1]+x[1:-1]+x[0]) for x in lst2]\n",
    "  \n",
    "    counter = 0\n",
    "    result = [] \n",
    "    for x in message_with_removed_digits:\n",
    "        result += [lst[counter] + x]\n",
    "        counter += 1\n",
    "\n",
    "    result_display = [x for x in result]\n",
    "    print(result_display)\n",
    "    \n",
    "\n",
    "decipher_this('72olle 103doo 100ya')\n",
    "decipher_this('82yade 115te 103o')\n",
    "\n"
   ]
  }
 ],
 "metadata": {
  "interpreter": {
   "hash": "72f905a1bbd07dc295e964c0246fea79da9263e854d6ece130d260b8e4a73f49"
  },
  "kernelspec": {
   "display_name": "Python 3.10.1 64-bit",
   "language": "python",
   "name": "python3"
  },
  "language_info": {
   "codemirror_mode": {
    "name": "ipython",
    "version": 3
   },
   "file_extension": ".py",
   "mimetype": "text/x-python",
   "name": "python",
   "nbconvert_exporter": "python",
   "pygments_lexer": "ipython3",
   "version": "3.10.1"
  },
  "orig_nbformat": 4
 },
 "nbformat": 4,
 "nbformat_minor": 2
}
