{
 "cells": [
  {
   "cell_type": "code",
   "execution_count": 255,
   "metadata": {},
   "outputs": [
    {
     "name": "stdout",
     "output_type": "stream",
     "text": [
      "Number of Rooms is: 3\n"
     ]
    },
    {
     "name": "stdout",
     "output_type": "stream",
     "text": [
      "1 more chairs needed in room 2\n",
      "2 more chairs needed in room 3\n"
     ]
    }
   ],
   "source": [
    "'''  \n",
    "                    5. Office Chairs\n",
    "\n",
    "You are a facility manager at a large business center. One of your responsibilities is to check if each conference room in the center has enough chairs for the visitors.\n",
    "\n",
    "On the first line, you will be given an integer n representing the number of rooms in the business center. On the following n lines for each room, you will receive information\n",
    "about the chairs in the room and the number of visitors. Each chair will be presented with the char \"X\". Next there will be a single space and the number fo visitors at the end.\n",
    "For example: \"XXXXX 4\" (5 chairs and visitors).\n",
    "\n",
    "Keep track of the free chairs:\n",
    "    - If there are not enough chairs in a specific room, print the follwoing message:\n",
    "        \"{needed_chairs_in_room} more chairs needed in room {number_of_room}\". The rooms start form 1* \n",
    "    - Otherwise, print \"Game on, {total_free_chairs} free chairs left\"\n",
    "\n",
    "Example:\n",
    "\n",
    "Input:                  Output:\n",
    "4                       Game On, free chairs left.           \n",
    "XXXX 4\n",
    "XX 1                    \n",
    "XXXXXX 3\n",
    "XXX 3\n",
    "\n",
    "\n",
    "\n",
    "Input:                  Output:\n",
    "3                       1 more chairs needed in room 2\n",
    "XXXXXXX 5               2 more chairs needed in room 3\n",
    "XXXX 5                  \n",
    "XXXXXX 8                \n",
    "\n",
    "'''\n",
    "\n",
    "def office_chairs(rooms):\n",
    "\n",
    "    print('Number of Rooms is: {}'.format(rooms))\n",
    "\n",
    "    room_info = [input('Room number {}'.format(x)) for x in range(1, rooms+1)]\n",
    "    room_number = 0\n",
    "    no_edge_case = True\n",
    "    result = 0\n",
    "    \n",
    "    for room in room_info:\n",
    "        info = room.split(\" \")\n",
    "        chairs = len(info[0])\n",
    "        people = int(info[1])\n",
    "        count = abs(people - chairs)\n",
    "        room_number += 1\n",
    "\n",
    "        if chairs < people:\n",
    "            print(\"{} more chairs needed in room {}\".format(count, room_number))\n",
    "            no_edge_case = False\n",
    "            result -= chairs\n",
    "\n",
    "        else:\n",
    "            result += count\n",
    "        \n",
    "    if no_edge_case:\n",
    "        print('Game On, {} free chairs left '.format(result))\n",
    "     \n",
    "\n",
    "\n",
    "office_chairs(3)\n"
   ]
  },
  {
   "cell_type": "code",
   "execution_count": null,
   "metadata": {},
   "outputs": [],
   "source": []
  },
  {
   "cell_type": "code",
   "execution_count": null,
   "metadata": {},
   "outputs": [],
   "source": []
  },
  {
   "cell_type": "code",
   "execution_count": null,
   "metadata": {},
   "outputs": [],
   "source": []
  }
 ],
 "metadata": {
  "interpreter": {
   "hash": "72f905a1bbd07dc295e964c0246fea79da9263e854d6ece130d260b8e4a73f49"
  },
  "kernelspec": {
   "display_name": "Python 3.10.1 64-bit",
   "language": "python",
   "name": "python3"
  },
  "language_info": {
   "codemirror_mode": {
    "name": "ipython",
    "version": 3
   },
   "file_extension": ".py",
   "mimetype": "text/x-python",
   "name": "python",
   "nbconvert_exporter": "python",
   "pygments_lexer": "ipython3",
   "version": "3.10.1"
  },
  "orig_nbformat": 4
 },
 "nbformat": 4,
 "nbformat_minor": 2
}
