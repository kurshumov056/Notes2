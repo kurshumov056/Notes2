{
 "cells": [
  {
   "cell_type": "code",
   "execution_count": 443,
   "metadata": {},
   "outputs": [
    {
     "name": "stdout",
     "output_type": "stream",
     "text": [
      "Group of 10's is as follows: [8, 3]  \n",
      "Group of 20's is as follows: [12, 17, 19]  \n",
      "Group of 30's is as follows: [25]  \n",
      "Group of 40's is as follows: [38, 35, 33]  \n",
      "Group of 50's is as follows: [50]  \n"
     ]
    }
   ],
   "source": [
    "'''   \n",
    "                                            7. Group of 10's\n",
    "\n",
    "Write a program that receives a sequence of numbers (a string containing integers sperated by \", \") and prints the numbers sorted into lists of 10's in the format \n",
    "\"Group of {group}'s: {list_of_numbers}\".\n",
    "\n",
    "Examples:\n",
    "    - The numbers 2, 8, 4 and 10 fall into the group of 10s \n",
    "    - The number 13, 19, 14 and 15 fall into the group of 20s\n",
    "\n",
    "For more clarification, see the examples below:\n",
    "\n",
    "Examples:\n",
    "\n",
    "Input:                                  Output:\n",
    "8, 12, 38, 3, 17, 19, 25, 35, 50        Group of 10's: [8, 3]\n",
    "                                        Group of 20's [12, 17, 19]\n",
    "                                        Group of 30's [25]\n",
    "                                        Group of 40's [38, 35]\n",
    "                                        Group of 50's [50]\n",
    "\n",
    "\n",
    "\n",
    "Input:                                  Output:\n",
    "1, 3, 3, 4, 34, 35, 25, 21, 33          Group of 10's [1, 3, 3, 4]\n",
    "                                        Group of 20's []\n",
    "                                        Group of 30's [25, 21]\n",
    "                                        Group of 40's [34, 35, 33]\n",
    "\n",
    "Hints:\n",
    "    - Keep track of the group using a variable to store its max value.\n",
    "    - Create a loo and iflter the elements that are less than or equal to the group boundary and remove them mfrom the original list.\n",
    "    - Increa se the boundary by 10 \n",
    "    - Loop until the given list is empty                                     \n",
    "'''\n",
    "\n",
    "def groups_of_10(sequence):\n",
    "    numbers = [ int(x) for x in sequence.split(', ')]\n",
    "    highest_num = max(numbers)\n",
    "    lst = []\n",
    "    final_lst = []\n",
    "    group_numbers = [[int(group)-1, abs(int(group)+9) ]  for group in range(1, highest_num +1, 10) ]\n",
    "\n",
    "    final = group_numbers + [[highest_num - 10], [highest_num]]\n",
    "     \n",
    "    \n",
    "    for nums in group_numbers:\n",
    "        lst = [nums]\n",
    "\n",
    "        for ints in numbers:\n",
    "\n",
    "            if ints in range(nums[0], nums[1]+1):\n",
    "                lst += [ints]\n",
    "                \n",
    "                if lst not in final_lst:\n",
    "                    final_lst += [lst]\n",
    "    \n",
    "\n",
    "    final_result = [\"Group of {}'s is as follows: {}  \".format(element[0][1], element[1:], end =\"\\n\") for element in final_lst]\n",
    "    displayed_result = [print(x) for x in final_result]\n",
    "\n",
    "groups_of_10('8, 12, 38, 3, 17, 19, 25, 35, 33, 50')"
   ]
  }
 ],
 "metadata": {
  "interpreter": {
   "hash": "72f905a1bbd07dc295e964c0246fea79da9263e854d6ece130d260b8e4a73f49"
  },
  "kernelspec": {
   "display_name": "Python 3.10.1 64-bit",
   "language": "python",
   "name": "python3"
  },
  "language_info": {
   "codemirror_mode": {
    "name": "ipython",
    "version": 3
   },
   "file_extension": ".py",
   "mimetype": "text/x-python",
   "name": "python",
   "nbconvert_exporter": "python",
   "pygments_lexer": "ipython3",
   "version": "3.10.1"
  },
  "orig_nbformat": 4
 },
 "nbformat": 4,
 "nbformat_minor": 2
}
