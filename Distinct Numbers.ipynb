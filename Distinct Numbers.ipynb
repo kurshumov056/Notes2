{
 "cells": [
  {
   "cell_type": "code",
   "execution_count": 1,
   "metadata": {},
   "outputs": [
    {
     "name": "stdout",
     "output_type": "stream",
     "text": [
      "See you next happy year 9012\n"
     ]
    },
    {
     "data": {
      "text/plain": [
       "9012"
      ]
     },
     "execution_count": 1,
     "metadata": {},
     "output_type": "execute_result"
    }
   ],
   "source": [
    "''' \n",
    "6. Next Happy Year\n",
    "\n",
    "You're saying goodbye to your best friend \"See you next happy year\". Happy year it hte year with only distinct digits (e.g.) 2018. Write a program that receives an integer number and finds the next happy year\n",
    "\n",
    "Example: INput = 1001;  Output = 1023\n",
    "\n",
    "'''\n",
    "\n",
    "def distinct_numbers(number):\n",
    "    set_nums = set()\n",
    "    list_nums = []\n",
    "    changing_number = number\n",
    "\n",
    "    not_distinct = True\n",
    "    count = 0\n",
    "\n",
    "    while not_distinct is True:\n",
    "        count+= 1\n",
    "        for x in str(changing_number):\n",
    "            set_nums.add(x)\n",
    "            list_nums += x\n",
    "        \n",
    "\n",
    "        if len(set_nums) == len(list_nums):\n",
    "            not_distinct = False\n",
    "           \n",
    "            \n",
    "        else:\n",
    "            set_nums = set()\n",
    "            list_nums =[]\n",
    "            changing_number += 1\n",
    "            not_distinct = True \n",
    "    print('See you next happy year {}'.format(changing_number))\n",
    "    return changing_number\n",
    "    \n",
    "   \n",
    "      \n",
    "\n",
    "        \n",
    "\n",
    "distinct_numbers(8989)"
   ]
  },
  {
   "cell_type": "code",
   "execution_count": null,
   "metadata": {},
   "outputs": [],
   "source": []
  }
 ],
 "metadata": {
  "interpreter": {
   "hash": "72f905a1bbd07dc295e964c0246fea79da9263e854d6ece130d260b8e4a73f49"
  },
  "kernelspec": {
   "display_name": "Python 3.10.1 64-bit",
   "language": "python",
   "name": "python3"
  },
  "language_info": {
   "codemirror_mode": {
    "name": "ipython",
    "version": 3
   },
   "file_extension": ".py",
   "mimetype": "text/x-python",
   "name": "python",
   "nbconvert_exporter": "python",
   "pygments_lexer": "ipython3",
   "version": "3.10.1"
  },
  "orig_nbformat": 4
 },
 "nbformat": 4,
 "nbformat_minor": 2
}
