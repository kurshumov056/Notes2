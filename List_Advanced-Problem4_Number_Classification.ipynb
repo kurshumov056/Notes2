{
 "cells": [
  {
   "cell_type": "code",
   "execution_count": 185,
   "metadata": {},
   "outputs": [
    {
     "name": "stdout",
     "output_type": "stream",
     "text": [
      "Positive: ['1', '0', '5', '3', '4', '12', '19']\n",
      "Negative: ['-2', '-100', '-20', '-33']\n",
      "Even: ['-2', '0', '4', '-100', '-20', '12']\n",
      "Odd: ['1', '5', '3', '19', '-33']\n"
     ]
    }
   ],
   "source": [
    "'''  \n",
    "                        4.Number Classification \n",
    "\n",
    "Using a list comprehension, write a program that receives numbers, sepearated by comma and space \", \", and prints all the postive, negative, even, and odd numbers on separate\n",
    "lines as shown below.\n",
    "\n",
    "Note: Zero is counted for a positive number.\n",
    "\n",
    "Input:                                              Output:\n",
    "1, -2, 0, 5, 3, 4, -100, -20, 12, 19, -33           Positive: 1, 0, 5, 3, 4, 12, 19\n",
    "                                                    Negative: -2, -100, -20, -33\n",
    "                                                    Even: -2, 0, 4, -100, -20, 12\n",
    "                                                    Odd: 1, 5, 3, 19, -33                                                    \n",
    "'''\n",
    "\n",
    "\n",
    "def number_classification(numbers):\n",
    "    num_sequence = numbers.split(', ')\n",
    "    positive_nums = [x for x in num_sequence if int(x) >= 0]\n",
    "    negative_nums = [x for x in num_sequence if int(x) < 0]\n",
    "    even_nums = [x for x in num_sequence if int(x)%2==0]\n",
    "    odd_nums = [x for x in num_sequence if int(x)%2!=0]\n",
    "\n",
    "    print(\"Positive: {}\".format(positive_nums))\n",
    "    print(\"Negative: {}\".format(negative_nums))\n",
    "    print(\"Even: {}\".format(even_nums))\n",
    "    print(\"Odd: {}\".format(odd_nums))\n",
    "\n",
    "number_classification(\"1, -2, 0, 5, 3, 4, -100, -20, 12, 19, -33\")"
   ]
  },
  {
   "cell_type": "code",
   "execution_count": null,
   "metadata": {},
   "outputs": [],
   "source": []
  },
  {
   "cell_type": "code",
   "execution_count": null,
   "metadata": {},
   "outputs": [],
   "source": []
  },
  {
   "cell_type": "code",
   "execution_count": null,
   "metadata": {},
   "outputs": [],
   "source": []
  }
 ],
 "metadata": {
  "interpreter": {
   "hash": "72f905a1bbd07dc295e964c0246fea79da9263e854d6ece130d260b8e4a73f49"
  },
  "kernelspec": {
   "display_name": "Python 3.10.1 64-bit",
   "language": "python",
   "name": "python3"
  },
  "language_info": {
   "codemirror_mode": {
    "name": "ipython",
    "version": 3
   },
   "file_extension": ".py",
   "mimetype": "text/x-python",
   "name": "python",
   "nbconvert_exporter": "python",
   "pygments_lexer": "ipython3",
   "version": "3.10.1"
  },
  "orig_nbformat": 4
 },
 "nbformat": 4,
 "nbformat_minor": 2
}
